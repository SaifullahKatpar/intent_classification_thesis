{
 "cells": [
  {
   "cell_type": "code",
   "execution_count": 1,
   "id": "ec63d6de",
   "metadata": {},
   "outputs": [
    {
     "data": {
      "text/plain": [
       "1870411"
      ]
     },
     "execution_count": 1,
     "metadata": {},
     "output_type": "execute_result"
    }
   ],
   "source": [
    "data = open(\"utterances_1.txt\", \"r\").readlines()\n",
    "len(data)"
   ]
  },
  {
   "cell_type": "markdown",
   "id": "70f6a56e",
   "metadata": {},
   "source": [
    "# Dataset Preparation"
   ]
  },
  {
   "cell_type": "code",
   "execution_count": 8,
   "id": "603b6007",
   "metadata": {},
   "outputs": [],
   "source": [
    "import pandas as pd\n",
    "import numpy as np"
   ]
  },
  {
   "cell_type": "code",
   "execution_count": 4,
   "id": "b80825b8",
   "metadata": {},
   "outputs": [
    {
     "data": {
      "text/html": [
       "<div>\n",
       "<style scoped>\n",
       "    .dataframe tbody tr th:only-of-type {\n",
       "        vertical-align: middle;\n",
       "    }\n",
       "\n",
       "    .dataframe tbody tr th {\n",
       "        vertical-align: top;\n",
       "    }\n",
       "\n",
       "    .dataframe thead th {\n",
       "        text-align: right;\n",
       "    }\n",
       "</style>\n",
       "<table border=\"1\" class=\"dataframe\">\n",
       "  <thead>\n",
       "    <tr style=\"text-align: right;\">\n",
       "      <th></th>\n",
       "      <th>sentences</th>\n",
       "      <th>labels</th>\n",
       "      <th>EFFECT</th>\n",
       "      <th>PARAM</th>\n",
       "      <th>SCOPE</th>\n",
       "      <th>GOAL</th>\n",
       "    </tr>\n",
       "  </thead>\n",
       "  <tbody>\n",
       "    <tr>\n",
       "      <th>0</th>\n",
       "      <td>help me automatically ACTION:turn the LOCATION...</td>\n",
       "      <td>EFFECT:DecreaseValue PARAM:Colour SCOPE:Global...</td>\n",
       "      <td>DecreaseValue</td>\n",
       "      <td>Colour</td>\n",
       "      <td>Global</td>\n",
       "      <td>Indirect</td>\n",
       "    </tr>\n",
       "    <tr>\n",
       "      <th>1</th>\n",
       "      <td>please i need DEVICE:kettle LOCATION:out_here ...</td>\n",
       "      <td>SCOPE:Device GOAL:DeviceCommand</td>\n",
       "      <td>NaN</td>\n",
       "      <td>NaN</td>\n",
       "      <td>Device</td>\n",
       "      <td>DeviceCommand</td>\n",
       "    </tr>\n",
       "    <tr>\n",
       "      <th>2</th>\n",
       "      <td>automatically ACTION:lessen my DEVICE:smartpho...</td>\n",
       "      <td>EFFECT:FixedValue PARAM:Brightness SCOPE:Devic...</td>\n",
       "      <td>FixedValue</td>\n",
       "      <td>Brightness</td>\n",
       "      <td>Device</td>\n",
       "      <td>DeviceCommand</td>\n",
       "    </tr>\n",
       "    <tr>\n",
       "      <th>3</th>\n",
       "      <td>ACTION:suggest_us some VAL:loving for me</td>\n",
       "      <td>SCOPE:Global GOAL:Direct</td>\n",
       "      <td>NaN</td>\n",
       "      <td>NaN</td>\n",
       "      <td>Global</td>\n",
       "      <td>Direct</td>\n",
       "    </tr>\n",
       "    <tr>\n",
       "      <th>4</th>\n",
       "      <td>i prefer to have ACTION:make this DEVICE:windo...</td>\n",
       "      <td>SCOPE:Device GOAL:DeviceCommand</td>\n",
       "      <td>NaN</td>\n",
       "      <td>NaN</td>\n",
       "      <td>Device</td>\n",
       "      <td>DeviceCommand</td>\n",
       "    </tr>\n",
       "  </tbody>\n",
       "</table>\n",
       "</div>"
      ],
      "text/plain": [
       "                                           sentences  \\\n",
       "0  help me automatically ACTION:turn the LOCATION...   \n",
       "1  please i need DEVICE:kettle LOCATION:out_here ...   \n",
       "2  automatically ACTION:lessen my DEVICE:smartpho...   \n",
       "3           ACTION:suggest_us some VAL:loving for me   \n",
       "4  i prefer to have ACTION:make this DEVICE:windo...   \n",
       "\n",
       "                                              labels         EFFECT  \\\n",
       "0  EFFECT:DecreaseValue PARAM:Colour SCOPE:Global...  DecreaseValue   \n",
       "1                    SCOPE:Device GOAL:DeviceCommand            NaN   \n",
       "2  EFFECT:FixedValue PARAM:Brightness SCOPE:Devic...     FixedValue   \n",
       "3                           SCOPE:Global GOAL:Direct            NaN   \n",
       "4                    SCOPE:Device GOAL:DeviceCommand            NaN   \n",
       "\n",
       "        PARAM   SCOPE           GOAL  \n",
       "0      Colour  Global       Indirect  \n",
       "1         NaN  Device  DeviceCommand  \n",
       "2  Brightness  Device  DeviceCommand  \n",
       "3         NaN  Global         Direct  \n",
       "4         NaN  Device  DeviceCommand  "
      ]
     },
     "execution_count": 4,
     "metadata": {},
     "output_type": "execute_result"
    }
   ],
   "source": [
    "\n",
    "ENTITIES = [\"DEVICE\",\"DEIVCE\",\"Device\",\"PREFERENCE\",\"ACTION\",\"VAL\", \"VALUE\",\"UNIT\",\"LOCATION\",\"STATE\",\"SERVICE:\",\"SERVICE\",\"TIME\",\"ATION\", \"QUANTITY\"]\n",
    "\n",
    "sentence = []\n",
    "labels = []\n",
    "for line in data:\n",
    "    split_lines = line.split('|||')    \n",
    "    sentence.append(split_lines[0].strip())\n",
    "    labels.append(split_lines[1].strip())\n",
    "\n",
    "df = pd.DataFrame({'sentences':sentence,'labels':labels})\n",
    "\n",
    "physical_parameters = [ \"Color\" ,\"Temperature\" ,\"Brightness\" ,\"Volume\" ,\"AirQuality\" ,\"Humidity\",\"Channel\" ,\"Noise\" ,\"EnergyConsumption\",\"WaterConsumption\"]\n",
    "effect =    [\"DecreaseValue\" ,\"FixedValue\" ,\"IncreaseValue\"  ,\"DEcreaseValue\"]\n",
    "goal =      [\"Direct\", \"Indirect\"]\n",
    "scope =     [\"Global\",\"Device\"]\n",
    "df['EFFECT'] = df['labels'].str.findall('EFFECT:(\\S*).*').str[0]\n",
    "df['EFFECT'] = df['EFFECT'].str.replace('DEcreaseValue','DecreaseValue')\n",
    "\n",
    "df['PARAM'] = df['labels'].str.findall('PARAM:(\\S*).*').str[0]\n",
    "df['SCOPE'] = df['labels'].str.findall('SCOPE:(\\S*).*').str[0]\n",
    "df['GOAL'] = df['labels'].str.findall('GOAL:(\\S*).*').str[0]\n",
    "df.head()\n"
   ]
  },
  {
   "cell_type": "code",
   "execution_count": 5,
   "id": "5ab1763b",
   "metadata": {},
   "outputs": [],
   "source": [
    "u = df.sentences.str.split(expand=True).stack()\n",
    "\n",
    "df_tokenized = pd.DataFrame({\n",
    "    'Sentence': u.index.get_level_values(0) + 1, \n",
    "    'Word': u.values})"
   ]
  },
  {
   "cell_type": "code",
   "execution_count": 6,
   "id": "f0159cad",
   "metadata": {},
   "outputs": [],
   "source": [
    "df_tokenized[['Word','Entity']] = df_tokenized['Word'].str.split(':',1,expand=True)\n",
    "df_tokenized['Word_temp'] = df_tokenized['Word']"
   ]
  },
  {
   "cell_type": "code",
   "execution_count": 9,
   "id": "f047440e",
   "metadata": {},
   "outputs": [
    {
     "data": {
      "text/html": [
       "<div>\n",
       "<style scoped>\n",
       "    .dataframe tbody tr th:only-of-type {\n",
       "        vertical-align: middle;\n",
       "    }\n",
       "\n",
       "    .dataframe tbody tr th {\n",
       "        vertical-align: top;\n",
       "    }\n",
       "\n",
       "    .dataframe thead th {\n",
       "        text-align: right;\n",
       "    }\n",
       "</style>\n",
       "<table border=\"1\" class=\"dataframe\">\n",
       "  <thead>\n",
       "    <tr style=\"text-align: right;\">\n",
       "      <th></th>\n",
       "      <th>Sentence</th>\n",
       "      <th>Word</th>\n",
       "      <th>Entity</th>\n",
       "    </tr>\n",
       "  </thead>\n",
       "  <tbody>\n",
       "    <tr>\n",
       "      <th>0</th>\n",
       "      <td>1</td>\n",
       "      <td>help</td>\n",
       "      <td>O</td>\n",
       "    </tr>\n",
       "    <tr>\n",
       "      <th>1</th>\n",
       "      <td>1</td>\n",
       "      <td>me</td>\n",
       "      <td>O</td>\n",
       "    </tr>\n",
       "    <tr>\n",
       "      <th>2</th>\n",
       "      <td>1</td>\n",
       "      <td>automatically</td>\n",
       "      <td>O</td>\n",
       "    </tr>\n",
       "    <tr>\n",
       "      <th>3</th>\n",
       "      <td>1</td>\n",
       "      <td>turn</td>\n",
       "      <td>ACTION</td>\n",
       "    </tr>\n",
       "    <tr>\n",
       "      <th>4</th>\n",
       "      <td>1</td>\n",
       "      <td>the</td>\n",
       "      <td>O</td>\n",
       "    </tr>\n",
       "  </tbody>\n",
       "</table>\n",
       "</div>"
      ],
      "text/plain": [
       "   Sentence           Word  Entity\n",
       "0         1           help       O\n",
       "1         1             me       O\n",
       "2         1  automatically       O\n",
       "3         1           turn  ACTION\n",
       "4         1            the       O"
      ]
     },
     "execution_count": 9,
     "metadata": {},
     "output_type": "execute_result"
    }
   ],
   "source": [
    "df_tokenized['Word'] = np.where(df_tokenized['Word_temp'].str.isupper(),df_tokenized['Entity'],df_tokenized['Word_temp'])\n",
    "df_tokenized['Entity'] = np.where(df_tokenized['Word_temp'].str.isupper(),df_tokenized['Word_temp'],df_tokenized['Entity'])\n",
    "df_tokenized = df_tokenized.drop('Word_temp',axis=1)\n",
    "df_tokenized['Entity'] = df_tokenized['Entity'].fillna('O')\n",
    "df_tokenized.head()"
   ]
  },
  {
   "cell_type": "code",
   "execution_count": 10,
   "id": "570c7097",
   "metadata": {},
   "outputs": [
    {
     "data": {
      "text/plain": [
       "(18648505, 2296, 16)"
      ]
     },
     "execution_count": 10,
     "metadata": {},
     "output_type": "execute_result"
    }
   ],
   "source": [
    "len(df_tokenized), df_tokenized['Word'].nunique(), df_tokenized['Entity'].nunique()"
   ]
  },
  {
   "cell_type": "code",
   "execution_count": 11,
   "id": "32b4c3c4",
   "metadata": {},
   "outputs": [
    {
     "data": {
      "text/plain": [
       "array(['O', 'ACTION', 'LOCATION', 'VAL', 'DEVICE', 'UNIT', 'TIME',\n",
       "       'STATE', 'I', 'SERVICE', 'DEIVCE', 'amazon_echo', 'ATION',\n",
       "       'PREFERENCE', 'MAHDAAAAAAAAAA', 'MAHDAAAAAAAA'], dtype=object)"
      ]
     },
     "execution_count": 11,
     "metadata": {},
     "output_type": "execute_result"
    }
   ],
   "source": [
    "df_tokenized['Entity'].unique()"
   ]
  },
  {
   "cell_type": "code",
   "execution_count": 12,
   "id": "945da6a4",
   "metadata": {},
   "outputs": [],
   "source": [
    "df_tokenized['Word'] = np.where(df_tokenized['Entity']=='I','I',df_tokenized['Word'])\n",
    "df_tokenized['Entity'] = np.where(df_tokenized['Entity']=='I','O',df_tokenized['Entity'])"
   ]
  },
  {
   "cell_type": "code",
   "execution_count": 13,
   "id": "2d859780",
   "metadata": {},
   "outputs": [],
   "source": [
    "df_tokenized['Word'] = np.where(df_tokenized['Entity']=='amazon_echo','amazon_echo',df_tokenized['Word'])\n",
    "df_tokenized['Entity'] = np.where(df_tokenized['Entity']=='amazon_echo','Device',df_tokenized['Entity'])"
   ]
  },
  {
   "cell_type": "code",
   "execution_count": 14,
   "id": "167a464e",
   "metadata": {},
   "outputs": [
    {
     "data": {
      "text/plain": [
       "array(['O', 'ACTION', 'LOCATION', 'VAL', 'DEVICE', 'UNIT', 'TIME',\n",
       "       'STATE', 'SERVICE', 'DEIVCE', 'Device', 'ATION', 'PREFERENCE',\n",
       "       'MAHDAAAAAAAAAA', 'MAHDAAAAAAAA'], dtype=object)"
      ]
     },
     "execution_count": 14,
     "metadata": {},
     "output_type": "execute_result"
    }
   ],
   "source": [
    "df_tokenized['Entity'].unique()"
   ]
  },
  {
   "cell_type": "code",
   "execution_count": 15,
   "id": "1a3830e1",
   "metadata": {},
   "outputs": [],
   "source": [
    "df_tokenized['Entity'] = np.where(df_tokenized['Entity'].isin(['Device','DEIVCE']),'DEVICE',df_tokenized['Entity'])\n",
    "df_tokenized['Entity'] = np.where(df_tokenized['Entity']=='ATION','ACTION',df_tokenized['Entity'])"
   ]
  },
  {
   "cell_type": "code",
   "execution_count": 16,
   "id": "3f3b8af2",
   "metadata": {},
   "outputs": [
    {
     "data": {
      "text/plain": [
       "array(['O', 'ACTION', 'LOCATION', 'VAL', 'DEVICE', 'UNIT', 'TIME',\n",
       "       'STATE', 'SERVICE', 'PREFERENCE', 'MAHDAAAAAAAAAA', 'MAHDAAAAAAAA'],\n",
       "      dtype=object)"
      ]
     },
     "execution_count": 16,
     "metadata": {},
     "output_type": "execute_result"
    }
   ],
   "source": [
    "df_tokenized['Entity'].unique()"
   ]
  },
  {
   "cell_type": "code",
   "execution_count": 17,
   "id": "c426504e",
   "metadata": {},
   "outputs": [
    {
     "data": {
      "text/plain": [
       "(18648505, 2297, 12)"
      ]
     },
     "execution_count": 17,
     "metadata": {},
     "output_type": "execute_result"
    }
   ],
   "source": [
    "len(df_tokenized), df_tokenized['Word'].nunique(), df_tokenized['Entity'].nunique()"
   ]
  },
  {
   "cell_type": "code",
   "execution_count": 18,
   "id": "a41cc6e3",
   "metadata": {
    "id": "s4tnTFBeAIhx",
    "outputId": "7739dac0-f6aa-46cc-a6de-e85a067a1d04"
   },
   "outputs": [
    {
     "data": {
      "text/html": [
       "<div>\n",
       "<style scoped>\n",
       "    .dataframe tbody tr th:only-of-type {\n",
       "        vertical-align: middle;\n",
       "    }\n",
       "\n",
       "    .dataframe tbody tr th {\n",
       "        vertical-align: top;\n",
       "    }\n",
       "\n",
       "    .dataframe thead th {\n",
       "        text-align: right;\n",
       "    }\n",
       "</style>\n",
       "<table border=\"1\" class=\"dataframe\">\n",
       "  <thead>\n",
       "    <tr style=\"text-align: right;\">\n",
       "      <th></th>\n",
       "      <th>Sentence</th>\n",
       "      <th>Word</th>\n",
       "      <th>Entity</th>\n",
       "    </tr>\n",
       "  </thead>\n",
       "  <tbody>\n",
       "    <tr>\n",
       "      <th>0</th>\n",
       "      <td>1</td>\n",
       "      <td>help</td>\n",
       "      <td>O</td>\n",
       "    </tr>\n",
       "    <tr>\n",
       "      <th>1</th>\n",
       "      <td>1</td>\n",
       "      <td>me</td>\n",
       "      <td>O</td>\n",
       "    </tr>\n",
       "    <tr>\n",
       "      <th>2</th>\n",
       "      <td>1</td>\n",
       "      <td>automatically</td>\n",
       "      <td>O</td>\n",
       "    </tr>\n",
       "    <tr>\n",
       "      <th>3</th>\n",
       "      <td>1</td>\n",
       "      <td>turn</td>\n",
       "      <td>ACTION</td>\n",
       "    </tr>\n",
       "    <tr>\n",
       "      <th>4</th>\n",
       "      <td>1</td>\n",
       "      <td>the</td>\n",
       "      <td>O</td>\n",
       "    </tr>\n",
       "  </tbody>\n",
       "</table>\n",
       "</div>"
      ],
      "text/plain": [
       "   Sentence           Word  Entity\n",
       "0         1           help       O\n",
       "1         1             me       O\n",
       "2         1  automatically       O\n",
       "3         1           turn  ACTION\n",
       "4         1            the       O"
      ]
     },
     "execution_count": 18,
     "metadata": {},
     "output_type": "execute_result"
    }
   ],
   "source": [
    "df_tokenized.head()"
   ]
  },
  {
   "cell_type": "code",
   "execution_count": 19,
   "id": "e0e9a775",
   "metadata": {
    "id": "5opXsg-ZAIhx",
    "outputId": "6feb2ae8-4dd2-447f-c848-19ca4e53ea4a"
   },
   "outputs": [
    {
     "data": {
      "text/html": [
       "<div>\n",
       "<style scoped>\n",
       "    .dataframe tbody tr th:only-of-type {\n",
       "        vertical-align: middle;\n",
       "    }\n",
       "\n",
       "    .dataframe tbody tr th {\n",
       "        vertical-align: top;\n",
       "    }\n",
       "\n",
       "    .dataframe thead th {\n",
       "        text-align: right;\n",
       "    }\n",
       "</style>\n",
       "<table border=\"1\" class=\"dataframe\">\n",
       "  <thead>\n",
       "    <tr style=\"text-align: right;\">\n",
       "      <th></th>\n",
       "      <th>Entity</th>\n",
       "      <th>counts</th>\n",
       "    </tr>\n",
       "  </thead>\n",
       "  <tbody>\n",
       "    <tr>\n",
       "      <th>3</th>\n",
       "      <td>MAHDAAAAAAAA</td>\n",
       "      <td>6</td>\n",
       "    </tr>\n",
       "    <tr>\n",
       "      <th>4</th>\n",
       "      <td>MAHDAAAAAAAAAA</td>\n",
       "      <td>7</td>\n",
       "    </tr>\n",
       "    <tr>\n",
       "      <th>6</th>\n",
       "      <td>PREFERENCE</td>\n",
       "      <td>3836</td>\n",
       "    </tr>\n",
       "    <tr>\n",
       "      <th>9</th>\n",
       "      <td>TIME</td>\n",
       "      <td>64953</td>\n",
       "    </tr>\n",
       "    <tr>\n",
       "      <th>7</th>\n",
       "      <td>SERVICE</td>\n",
       "      <td>68128</td>\n",
       "    </tr>\n",
       "    <tr>\n",
       "      <th>8</th>\n",
       "      <td>STATE</td>\n",
       "      <td>212398</td>\n",
       "    </tr>\n",
       "    <tr>\n",
       "      <th>10</th>\n",
       "      <td>UNIT</td>\n",
       "      <td>368416</td>\n",
       "    </tr>\n",
       "    <tr>\n",
       "      <th>1</th>\n",
       "      <td>DEVICE</td>\n",
       "      <td>916244</td>\n",
       "    </tr>\n",
       "    <tr>\n",
       "      <th>11</th>\n",
       "      <td>VAL</td>\n",
       "      <td>1311821</td>\n",
       "    </tr>\n",
       "    <tr>\n",
       "      <th>2</th>\n",
       "      <td>LOCATION</td>\n",
       "      <td>1425964</td>\n",
       "    </tr>\n",
       "    <tr>\n",
       "      <th>0</th>\n",
       "      <td>ACTION</td>\n",
       "      <td>1827007</td>\n",
       "    </tr>\n",
       "    <tr>\n",
       "      <th>5</th>\n",
       "      <td>O</td>\n",
       "      <td>12449725</td>\n",
       "    </tr>\n",
       "  </tbody>\n",
       "</table>\n",
       "</div>"
      ],
      "text/plain": [
       "            Entity    counts\n",
       "3     MAHDAAAAAAAA         6\n",
       "4   MAHDAAAAAAAAAA         7\n",
       "6       PREFERENCE      3836\n",
       "9             TIME     64953\n",
       "7          SERVICE     68128\n",
       "8            STATE    212398\n",
       "10            UNIT    368416\n",
       "1           DEVICE    916244\n",
       "11             VAL   1311821\n",
       "2         LOCATION   1425964\n",
       "0           ACTION   1827007\n",
       "5                O  12449725"
      ]
     },
     "execution_count": 19,
     "metadata": {},
     "output_type": "execute_result"
    }
   ],
   "source": [
    "df_tokenized.groupby('Entity').size().reset_index(name='counts').sort_values(by='counts')"
   ]
  },
  {
   "cell_type": "code",
   "execution_count": 20,
   "id": "10474d25",
   "metadata": {},
   "outputs": [],
   "source": [
    "import spacy\n",
    "nlp = spacy.load(\"en_core_web_sm\")"
   ]
  },
  {
   "cell_type": "code",
   "execution_count": 21,
   "id": "0398b180",
   "metadata": {},
   "outputs": [],
   "source": [
    "df_tokenized = df_tokenized[(df_tokenized['Word'].str.len() !=0) & (df_tokenized['Word'].notnull())]"
   ]
  },
  {
   "cell_type": "code",
   "execution_count": 22,
   "id": "9927a651",
   "metadata": {},
   "outputs": [
    {
     "data": {
      "text/plain": [
       "0"
      ]
     },
     "execution_count": 22,
     "metadata": {},
     "output_type": "execute_result"
    }
   ],
   "source": [
    "df_tokenized['Word'].isnull().sum()"
   ]
  },
  {
   "cell_type": "code",
   "execution_count": 23,
   "id": "c6c2df12",
   "metadata": {},
   "outputs": [],
   "source": [
    "unique_words = df_tokenized['Word'].unique()\n",
    "unique_words = [w for w in unique_words if w is not None]\n",
    "\n",
    "pos_tags={}\n",
    "for word in unique_words: \n",
    "    doc= nlp(word)\n",
    "    pos_tag = doc[0].pos_\n",
    "    pos_tags[word] = pos_tag"
   ]
  },
  {
   "cell_type": "code",
   "execution_count": 24,
   "id": "1ebcbe9e",
   "metadata": {},
   "outputs": [],
   "source": [
    "df_tokenized['POS'] = df_tokenized['Word'].apply(lambda x: pos_tags[x] )"
   ]
  },
  {
   "cell_type": "code",
   "execution_count": 25,
   "id": "304cc891",
   "metadata": {},
   "outputs": [
    {
     "data": {
      "text/html": [
       "<div>\n",
       "<style scoped>\n",
       "    .dataframe tbody tr th:only-of-type {\n",
       "        vertical-align: middle;\n",
       "    }\n",
       "\n",
       "    .dataframe tbody tr th {\n",
       "        vertical-align: top;\n",
       "    }\n",
       "\n",
       "    .dataframe thead th {\n",
       "        text-align: right;\n",
       "    }\n",
       "</style>\n",
       "<table border=\"1\" class=\"dataframe\">\n",
       "  <thead>\n",
       "    <tr style=\"text-align: right;\">\n",
       "      <th></th>\n",
       "      <th>Sentence</th>\n",
       "      <th>Word</th>\n",
       "      <th>Entity</th>\n",
       "      <th>POS</th>\n",
       "    </tr>\n",
       "  </thead>\n",
       "  <tbody>\n",
       "    <tr>\n",
       "      <th>0</th>\n",
       "      <td>1</td>\n",
       "      <td>help</td>\n",
       "      <td>O</td>\n",
       "      <td>VERB</td>\n",
       "    </tr>\n",
       "    <tr>\n",
       "      <th>1</th>\n",
       "      <td>1</td>\n",
       "      <td>me</td>\n",
       "      <td>O</td>\n",
       "      <td>PRON</td>\n",
       "    </tr>\n",
       "    <tr>\n",
       "      <th>2</th>\n",
       "      <td>1</td>\n",
       "      <td>automatically</td>\n",
       "      <td>O</td>\n",
       "      <td>ADV</td>\n",
       "    </tr>\n",
       "    <tr>\n",
       "      <th>3</th>\n",
       "      <td>1</td>\n",
       "      <td>turn</td>\n",
       "      <td>ACTION</td>\n",
       "      <td>VERB</td>\n",
       "    </tr>\n",
       "    <tr>\n",
       "      <th>4</th>\n",
       "      <td>1</td>\n",
       "      <td>the</td>\n",
       "      <td>O</td>\n",
       "      <td>PRON</td>\n",
       "    </tr>\n",
       "  </tbody>\n",
       "</table>\n",
       "</div>"
      ],
      "text/plain": [
       "   Sentence           Word  Entity   POS\n",
       "0         1           help       O  VERB\n",
       "1         1             me       O  PRON\n",
       "2         1  automatically       O   ADV\n",
       "3         1           turn  ACTION  VERB\n",
       "4         1            the       O  PRON"
      ]
     },
     "execution_count": 25,
     "metadata": {},
     "output_type": "execute_result"
    }
   ],
   "source": [
    "df_tokenized.head()"
   ]
  },
  {
   "cell_type": "code",
   "execution_count": 26,
   "id": "62f9f59c",
   "metadata": {},
   "outputs": [],
   "source": [
    "df_tokenized.to_csv(\"./data/tokenized_data_v1.csv\",index=False)"
   ]
  },
  {
   "cell_type": "code",
   "execution_count": null,
   "id": "8cc85794",
   "metadata": {},
   "outputs": [],
   "source": []
  }
 ],
 "metadata": {
  "kernelspec": {
   "display_name": "Python 3 (ipykernel)",
   "language": "python",
   "name": "python3"
  },
  "language_info": {
   "codemirror_mode": {
    "name": "ipython",
    "version": 3
   },
   "file_extension": ".py",
   "mimetype": "text/x-python",
   "name": "python",
   "nbconvert_exporter": "python",
   "pygments_lexer": "ipython3",
   "version": "3.9.13"
  }
 },
 "nbformat": 4,
 "nbformat_minor": 5
}
