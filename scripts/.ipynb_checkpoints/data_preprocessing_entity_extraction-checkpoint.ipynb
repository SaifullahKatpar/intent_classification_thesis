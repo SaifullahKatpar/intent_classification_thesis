{
 "cells": [
  {
   "cell_type": "markdown",
   "id": "2e2f8864",
   "metadata": {},
   "source": [
    "# Process dataset for Entity Extraction"
   ]
  },
  {
   "cell_type": "markdown",
   "id": "8e11e5c7",
   "metadata": {},
   "source": [
    "**1. Load Dataset**"
   ]
  },
  {
   "cell_type": "code",
   "execution_count": 55,
   "id": "ec63d6de",
   "metadata": {},
   "outputs": [
    {
     "name": "stdout",
     "output_type": "stream",
     "text": [
      "Dataset Size:  82\n"
     ]
    }
   ],
   "source": [
    "# path = \"../data/utterances_1.txt\"\n",
    "input_path = \"../data/testing.txt\"\n",
    "output_path =\"../data/tokenized_data_eval.csv\"\n",
    "\n",
    "data = open(input_path, \"r\").readlines()\n",
    "print('Dataset Size: ',f\"{len(data):,}\")"
   ]
  },
  {
   "cell_type": "markdown",
   "id": "70f6a56e",
   "metadata": {},
   "source": [
    "**2. Import Libraries**"
   ]
  },
  {
   "cell_type": "code",
   "execution_count": 40,
   "id": "603b6007",
   "metadata": {},
   "outputs": [],
   "source": [
    "import pandas as pd\n",
    "import numpy as np\n",
    "import spacy\n",
    "import matplotlib.pyplot as plt"
   ]
  },
  {
   "cell_type": "markdown",
   "id": "36facf9f",
   "metadata": {},
   "source": [
    "**3. Parse Text**"
   ]
  },
  {
   "cell_type": "code",
   "execution_count": 41,
   "id": "b80825b8",
   "metadata": {},
   "outputs": [
    {
     "data": {
      "text/html": [
       "<div>\n",
       "<style scoped>\n",
       "    .dataframe tbody tr th:only-of-type {\n",
       "        vertical-align: middle;\n",
       "    }\n",
       "\n",
       "    .dataframe tbody tr th {\n",
       "        vertical-align: top;\n",
       "    }\n",
       "\n",
       "    .dataframe thead th {\n",
       "        text-align: right;\n",
       "    }\n",
       "</style>\n",
       "<table border=\"1\" class=\"dataframe\">\n",
       "  <thead>\n",
       "    <tr style=\"text-align: right;\">\n",
       "      <th></th>\n",
       "      <th>sentences</th>\n",
       "      <th>labels</th>\n",
       "      <th>EFFECT</th>\n",
       "      <th>PARAM</th>\n",
       "      <th>SCOPE</th>\n",
       "      <th>GOAL</th>\n",
       "    </tr>\n",
       "  </thead>\n",
       "  <tbody>\n",
       "    <tr>\n",
       "      <th>0</th>\n",
       "      <td>help me automatically ACTION:turn the LOCATION...</td>\n",
       "      <td>EFFECT:DecreaseValue PARAM:Colour SCOPE:Global...</td>\n",
       "      <td>DecreaseValue</td>\n",
       "      <td>Colour</td>\n",
       "      <td>Global</td>\n",
       "      <td>Indirect</td>\n",
       "    </tr>\n",
       "    <tr>\n",
       "      <th>1</th>\n",
       "      <td>please i need DEVICE:kettle LOCATION:out_here ...</td>\n",
       "      <td>SCOPE:Device GOAL:DeviceCommand</td>\n",
       "      <td>NaN</td>\n",
       "      <td>NaN</td>\n",
       "      <td>Device</td>\n",
       "      <td>DeviceCommand</td>\n",
       "    </tr>\n",
       "    <tr>\n",
       "      <th>2</th>\n",
       "      <td>automatically ACTION:lessen my DEVICE:smartpho...</td>\n",
       "      <td>EFFECT:FixedValue PARAM:Brightness SCOPE:Devic...</td>\n",
       "      <td>FixedValue</td>\n",
       "      <td>Brightness</td>\n",
       "      <td>Device</td>\n",
       "      <td>DeviceCommand</td>\n",
       "    </tr>\n",
       "    <tr>\n",
       "      <th>3</th>\n",
       "      <td>ACTION:suggest_us some VAL:loving for me</td>\n",
       "      <td>SCOPE:Global GOAL:Direct</td>\n",
       "      <td>NaN</td>\n",
       "      <td>NaN</td>\n",
       "      <td>Global</td>\n",
       "      <td>Direct</td>\n",
       "    </tr>\n",
       "    <tr>\n",
       "      <th>4</th>\n",
       "      <td>i prefer to have ACTION:make this DEVICE:windo...</td>\n",
       "      <td>SCOPE:Device GOAL:DeviceCommand</td>\n",
       "      <td>NaN</td>\n",
       "      <td>NaN</td>\n",
       "      <td>Device</td>\n",
       "      <td>DeviceCommand</td>\n",
       "    </tr>\n",
       "  </tbody>\n",
       "</table>\n",
       "</div>"
      ],
      "text/plain": [
       "                                           sentences  \\\n",
       "0  help me automatically ACTION:turn the LOCATION...   \n",
       "1  please i need DEVICE:kettle LOCATION:out_here ...   \n",
       "2  automatically ACTION:lessen my DEVICE:smartpho...   \n",
       "3           ACTION:suggest_us some VAL:loving for me   \n",
       "4  i prefer to have ACTION:make this DEVICE:windo...   \n",
       "\n",
       "                                              labels         EFFECT  \\\n",
       "0  EFFECT:DecreaseValue PARAM:Colour SCOPE:Global...  DecreaseValue   \n",
       "1                    SCOPE:Device GOAL:DeviceCommand            NaN   \n",
       "2  EFFECT:FixedValue PARAM:Brightness SCOPE:Devic...     FixedValue   \n",
       "3                           SCOPE:Global GOAL:Direct            NaN   \n",
       "4                    SCOPE:Device GOAL:DeviceCommand            NaN   \n",
       "\n",
       "        PARAM   SCOPE           GOAL  \n",
       "0      Colour  Global       Indirect  \n",
       "1         NaN  Device  DeviceCommand  \n",
       "2  Brightness  Device  DeviceCommand  \n",
       "3         NaN  Global         Direct  \n",
       "4         NaN  Device  DeviceCommand  "
      ]
     },
     "execution_count": 41,
     "metadata": {},
     "output_type": "execute_result"
    }
   ],
   "source": [
    "\n",
    "ENTITIES = [\"DEVICE\",\"DEIVCE\",\"Device\",\"PREFERENCE\",\"ACTION\",\"VAL\", \"VALUE\",\"UNIT\",\"LOCATION\",\"STATE\",\"SERVICE:\",\"SERVICE\",\"TIME\",\"ATION\", \"QUANTITY\"]\n",
    "\n",
    "sentence = []\n",
    "labels = []\n",
    "for line in data:\n",
    "    split_lines = line.split('|||')    \n",
    "    sentence.append(split_lines[0].strip())\n",
    "    labels.append(split_lines[1].strip())\n",
    "\n",
    "df = pd.DataFrame({'sentences':sentence,'labels':labels})\n",
    "\n",
    "physical_parameters = [ \"Color\" ,\"Temperature\" ,\"Brightness\" ,\"Volume\" ,\"AirQuality\" ,\"Humidity\",\"Channel\" ,\"Noise\" ,\"EnergyConsumption\",\"WaterConsumption\"]\n",
    "effect =    [\"DecreaseValue\" ,\"FixedValue\" ,\"IncreaseValue\"  ,\"DEcreaseValue\"]\n",
    "goal =      [\"Direct\", \"Indirect\"]\n",
    "scope =     [\"Global\",\"Device\"]\n",
    "df['EFFECT'] = df['labels'].str.findall('EFFECT:(\\S*).*').str[0]\n",
    "df['EFFECT'] = df['EFFECT'].str.replace('DEcreaseValue','DecreaseValue')\n",
    "\n",
    "df['PARAM'] = df['labels'].str.findall('PARAM:(\\S*).*').str[0]\n",
    "df['SCOPE'] = df['labels'].str.findall('SCOPE:(\\S*).*').str[0]\n",
    "df['GOAL'] = df['labels'].str.findall('GOAL:(\\S*).*').str[0]\n",
    "df.head()\n"
   ]
  },
  {
   "cell_type": "markdown",
   "id": "fcc55ded",
   "metadata": {},
   "source": [
    "**4. Tokenize Sentences**"
   ]
  },
  {
   "cell_type": "code",
   "execution_count": 42,
   "id": "5ab1763b",
   "metadata": {},
   "outputs": [],
   "source": [
    "u = df.sentences.str.split(expand=True).stack()\n",
    "\n",
    "df_tokenized = pd.DataFrame({\n",
    "    'Sentence': u.index.get_level_values(0) + 1, \n",
    "    'Word': u.values})"
   ]
  },
  {
   "cell_type": "code",
   "execution_count": 43,
   "id": "6746b3b9",
   "metadata": {},
   "outputs": [
    {
     "data": {
      "text/html": [
       "<div>\n",
       "<style scoped>\n",
       "    .dataframe tbody tr th:only-of-type {\n",
       "        vertical-align: middle;\n",
       "    }\n",
       "\n",
       "    .dataframe tbody tr th {\n",
       "        vertical-align: top;\n",
       "    }\n",
       "\n",
       "    .dataframe thead th {\n",
       "        text-align: right;\n",
       "    }\n",
       "</style>\n",
       "<table border=\"1\" class=\"dataframe\">\n",
       "  <thead>\n",
       "    <tr style=\"text-align: right;\">\n",
       "      <th></th>\n",
       "      <th>Sentence</th>\n",
       "      <th>Word</th>\n",
       "    </tr>\n",
       "  </thead>\n",
       "  <tbody>\n",
       "    <tr>\n",
       "      <th>0</th>\n",
       "      <td>1</td>\n",
       "      <td>help</td>\n",
       "    </tr>\n",
       "    <tr>\n",
       "      <th>1</th>\n",
       "      <td>1</td>\n",
       "      <td>me</td>\n",
       "    </tr>\n",
       "    <tr>\n",
       "      <th>2</th>\n",
       "      <td>1</td>\n",
       "      <td>automatically</td>\n",
       "    </tr>\n",
       "    <tr>\n",
       "      <th>3</th>\n",
       "      <td>1</td>\n",
       "      <td>ACTION:turn</td>\n",
       "    </tr>\n",
       "    <tr>\n",
       "      <th>4</th>\n",
       "      <td>1</td>\n",
       "      <td>the</td>\n",
       "    </tr>\n",
       "  </tbody>\n",
       "</table>\n",
       "</div>"
      ],
      "text/plain": [
       "   Sentence           Word\n",
       "0         1           help\n",
       "1         1             me\n",
       "2         1  automatically\n",
       "3         1    ACTION:turn\n",
       "4         1            the"
      ]
     },
     "execution_count": 43,
     "metadata": {},
     "output_type": "execute_result"
    }
   ],
   "source": [
    "df_tokenized.head()"
   ]
  },
  {
   "cell_type": "markdown",
   "id": "e34ef40e",
   "metadata": {},
   "source": [
    "**5. Separate Words and Entities**"
   ]
  },
  {
   "cell_type": "code",
   "execution_count": 44,
   "id": "f0159cad",
   "metadata": {},
   "outputs": [],
   "source": [
    "df_tokenized[['Word','Entity']] = df_tokenized['Word'].str.split(':',1,expand=True)\n",
    "df_tokenized['Word_temp'] = df_tokenized['Word']"
   ]
  },
  {
   "cell_type": "code",
   "execution_count": 45,
   "id": "f047440e",
   "metadata": {},
   "outputs": [
    {
     "data": {
      "text/html": [
       "<div>\n",
       "<style scoped>\n",
       "    .dataframe tbody tr th:only-of-type {\n",
       "        vertical-align: middle;\n",
       "    }\n",
       "\n",
       "    .dataframe tbody tr th {\n",
       "        vertical-align: top;\n",
       "    }\n",
       "\n",
       "    .dataframe thead th {\n",
       "        text-align: right;\n",
       "    }\n",
       "</style>\n",
       "<table border=\"1\" class=\"dataframe\">\n",
       "  <thead>\n",
       "    <tr style=\"text-align: right;\">\n",
       "      <th></th>\n",
       "      <th>Sentence</th>\n",
       "      <th>Word</th>\n",
       "      <th>Entity</th>\n",
       "    </tr>\n",
       "  </thead>\n",
       "  <tbody>\n",
       "    <tr>\n",
       "      <th>0</th>\n",
       "      <td>1</td>\n",
       "      <td>help</td>\n",
       "      <td>O</td>\n",
       "    </tr>\n",
       "    <tr>\n",
       "      <th>1</th>\n",
       "      <td>1</td>\n",
       "      <td>me</td>\n",
       "      <td>O</td>\n",
       "    </tr>\n",
       "    <tr>\n",
       "      <th>2</th>\n",
       "      <td>1</td>\n",
       "      <td>automatically</td>\n",
       "      <td>O</td>\n",
       "    </tr>\n",
       "    <tr>\n",
       "      <th>3</th>\n",
       "      <td>1</td>\n",
       "      <td>turn</td>\n",
       "      <td>ACTION</td>\n",
       "    </tr>\n",
       "    <tr>\n",
       "      <th>4</th>\n",
       "      <td>1</td>\n",
       "      <td>the</td>\n",
       "      <td>O</td>\n",
       "    </tr>\n",
       "  </tbody>\n",
       "</table>\n",
       "</div>"
      ],
      "text/plain": [
       "   Sentence           Word  Entity\n",
       "0         1           help       O\n",
       "1         1             me       O\n",
       "2         1  automatically       O\n",
       "3         1           turn  ACTION\n",
       "4         1            the       O"
      ]
     },
     "execution_count": 45,
     "metadata": {},
     "output_type": "execute_result"
    }
   ],
   "source": [
    "df_tokenized['Word'] = np.where(df_tokenized['Word_temp'].str.isupper(),df_tokenized['Entity'],df_tokenized['Word_temp'])\n",
    "df_tokenized['Entity'] = np.where(df_tokenized['Word_temp'].str.isupper(),df_tokenized['Word_temp'],df_tokenized['Entity'])\n",
    "df_tokenized = df_tokenized.drop('Word_temp',axis=1)\n",
    "df_tokenized['Entity'] = df_tokenized['Entity'].fillna('O')\n",
    "df_tokenized.head()"
   ]
  },
  {
   "cell_type": "code",
   "execution_count": 46,
   "id": "570c7097",
   "metadata": {},
   "outputs": [
    {
     "name": "stdout",
     "output_type": "stream",
     "text": [
      "Number of total records:  827\n",
      "Number of words:  259\n",
      "Number of entites:  10\n"
     ]
    }
   ],
   "source": [
    "print(\"Number of total records: \", f\"{len(df_tokenized):,}\")\n",
    "print(\"Number of words: \", f\"{df_tokenized['Word'].nunique():}\")\n",
    "print(\"Number of entites: \", f\"{df_tokenized['Entity'].nunique():}\")"
   ]
  },
  {
   "cell_type": "code",
   "execution_count": 47,
   "id": "32b4c3c4",
   "metadata": {},
   "outputs": [
    {
     "name": "stdout",
     "output_type": "stream",
     "text": [
      "Distinct entities: \n",
      " O\n",
      " ACTION\n",
      " LOCATION\n",
      " VAL\n",
      " DEVICE\n",
      " UNIT\n",
      " TIME\n",
      " STATE\n",
      " I\n",
      " SERVICE\n"
     ]
    }
   ],
   "source": [
    "print(\"Distinct entities: \\n\", \"\\n \".join(list(df_tokenized['Entity'].unique())))"
   ]
  },
  {
   "cell_type": "markdown",
   "id": "34e59573",
   "metadata": {},
   "source": [
    "**6. Cleaning text**"
   ]
  },
  {
   "cell_type": "code",
   "execution_count": 48,
   "id": "945da6a4",
   "metadata": {},
   "outputs": [],
   "source": [
    "df_tokenized['Word'] = np.where(df_tokenized['Entity']=='I','I',df_tokenized['Word'])\n",
    "df_tokenized['Entity'] = np.where(df_tokenized['Entity']=='I','O',df_tokenized['Entity'])"
   ]
  },
  {
   "cell_type": "code",
   "execution_count": 49,
   "id": "2d859780",
   "metadata": {},
   "outputs": [],
   "source": [
    "df_tokenized['Word'] = np.where(df_tokenized['Entity']=='amazon_echo','amazon_echo',df_tokenized['Word'])\n",
    "df_tokenized['Entity'] = np.where(df_tokenized['Entity']=='amazon_echo','Device',df_tokenized['Entity'])"
   ]
  },
  {
   "cell_type": "code",
   "execution_count": 50,
   "id": "1a3830e1",
   "metadata": {},
   "outputs": [],
   "source": [
    "df_tokenized['Entity'] = np.where(df_tokenized['Entity'].isin(['Device','DEIVCE']),'DEVICE',df_tokenized['Entity'])\n",
    "df_tokenized['Entity'] = np.where(df_tokenized['Entity']=='ATION','ACTION',df_tokenized['Entity'])"
   ]
  },
  {
   "cell_type": "code",
   "execution_count": 51,
   "id": "0398b180",
   "metadata": {},
   "outputs": [],
   "source": [
    "df_tokenized = df_tokenized[(df_tokenized['Word'].str.len() !=0) & (df_tokenized['Word'].notnull())]"
   ]
  },
  {
   "cell_type": "markdown",
   "id": "c3d29135",
   "metadata": {},
   "source": [
    "**7. Entity Distriubution**"
   ]
  },
  {
   "cell_type": "code",
   "execution_count": 52,
   "id": "e0e9a775",
   "metadata": {
    "id": "5opXsg-ZAIhx",
    "outputId": "6feb2ae8-4dd2-447f-c848-19ca4e53ea4a"
   },
   "outputs": [
    {
     "data": {
      "image/png": "[encoded data removed]",
      "text/plain": [
       "<Figure size 640x480 with 1 Axes>"
      ]
     },
     "metadata": {},
     "output_type": "display_data"
    }
   ],
   "source": [
    "df_tokenized.groupby('Entity').agg(word_count=('Word','count')).plot(kind='bar')\n",
    "plt.show()"
   ]
  },
  {
   "cell_type": "code",
   "execution_count": 38,
   "id": "c6c2df12",
   "metadata": {},
   "outputs": [],
   "source": [
    "# Part of Speech tagging\n",
    "\n",
    "# nlp = spacy.load(\"en_core_web_sm\")\n",
    "# unique_words = df_tokenized['Word'].unique()\n",
    "# unique_words = [w for w in unique_words if w is not None]\n",
    "\n",
    "# pos_tags={}\n",
    "# for word in unique_words: \n",
    "#     doc= nlp(word)\n",
    "#     pos_tag = doc[0].pos_\n",
    "#     pos_tags[word] = pos_tag\n",
    "# df_tokenized['POS'] = df_tokenized['Word'].apply(lambda x: pos_tags[x] )"
   ]
  },
  {
   "cell_type": "code",
   "execution_count": 56,
   "id": "62f9f59c",
   "metadata": {},
   "outputs": [],
   "source": [
    "df_tokenized.to_csv(output_path,index=False)"
   ]
  },
  {
   "cell_type": "code",
   "execution_count": null,
   "id": "8cc85794",
   "metadata": {},
   "outputs": [],
   "source": []
  }
 ],
 "metadata": {
  "kernelspec": {
   "display_name": "Python 3 (ipykernel)",
   "language": "python",
   "name": "python3"
  },
  "language_info": {
   "codemirror_mode": {
    "name": "ipython",
    "version": 3
   },
   "file_extension": ".py",
   "mimetype": "text/x-python",
   "name": "python",
   "nbconvert_exporter": "python",
   "pygments_lexer": "ipython3",
   "version": "3.9.13"
  }
 },
 "nbformat": 4,
 "nbformat_minor": 5
}
