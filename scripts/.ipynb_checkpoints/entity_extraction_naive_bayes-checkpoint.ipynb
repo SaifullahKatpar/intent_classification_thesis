{
 "cells": [
  {
   "cell_type": "markdown",
   "id": "8f7c6188",
   "metadata": {},
   "source": [
    "# Train Naïve Bayes Classifier for Entity Extraction"
   ]
  },
  {
   "cell_type": "markdown",
   "id": "c0c130fe",
   "metadata": {},
   "source": [
    "**1. Load libraries**"
   ]
  },
  {
   "cell_type": "code",
   "execution_count": 5,
   "id": "d91bc567",
   "metadata": {},
   "outputs": [],
   "source": [
    "import pandas as pd\n",
    "import numpy as np\n",
    "from sklearn.feature_extraction import DictVectorizer\n",
    "from sklearn.feature_extraction.text import HashingVectorizer\n",
    "from sklearn.model_selection import train_test_split\n",
    "from sklearn.naive_bayes import MultinomialNB\n",
    "from sklearn.metrics import classification_report"
   ]
  },
  {
   "cell_type": "markdown",
   "id": "9b9900af",
   "metadata": {},
   "source": [
    "**2. Load data**"
   ]
  },
  {
   "cell_type": "code",
   "execution_count": 23,
   "id": "78e146d4",
   "metadata": {},
   "outputs": [
    {
     "name": "stdout",
     "output_type": "stream",
     "text": [
      "Training Dataset Size:  18,648,228\n",
      "Evaluation Dataset Size:  827\n"
     ]
    }
   ],
   "source": [
    "train_input_path =\"../data/tokenized_data_v1.csv\"\n",
    "eval_input_path =\"../data/tokenized_data_eval.csv\"\n",
    "\n",
    "df_tokenized = pd.read_csv(train_input_path)\n",
    "df_tokenized_eval = pd.read_csv(eval_input_path)\n",
    "\n",
    "print('Training Dataset Size: ',f\"{len(df_tokenized):,}\")\n",
    "print('Evaluation Dataset Size: ',f\"{len(df_tokenized_eval):,}\")"
   ]
  },
  {
   "cell_type": "code",
   "execution_count": 24,
   "id": "ef5ba049",
   "metadata": {},
   "outputs": [
    {
     "data": {
      "text/html": [
       "<div>\n",
       "<style scoped>\n",
       "    .dataframe tbody tr th:only-of-type {\n",
       "        vertical-align: middle;\n",
       "    }\n",
       "\n",
       "    .dataframe tbody tr th {\n",
       "        vertical-align: top;\n",
       "    }\n",
       "\n",
       "    .dataframe thead th {\n",
       "        text-align: right;\n",
       "    }\n",
       "</style>\n",
       "<table border=\"1\" class=\"dataframe\">\n",
       "  <thead>\n",
       "    <tr style=\"text-align: right;\">\n",
       "      <th></th>\n",
       "      <th>Sentence</th>\n",
       "      <th>Word</th>\n",
       "      <th>Entity</th>\n",
       "      <th>POS</th>\n",
       "    </tr>\n",
       "  </thead>\n",
       "  <tbody>\n",
       "    <tr>\n",
       "      <th>0</th>\n",
       "      <td>1</td>\n",
       "      <td>help</td>\n",
       "      <td>O</td>\n",
       "      <td>VERB</td>\n",
       "    </tr>\n",
       "    <tr>\n",
       "      <th>1</th>\n",
       "      <td>1</td>\n",
       "      <td>me</td>\n",
       "      <td>O</td>\n",
       "      <td>PRON</td>\n",
       "    </tr>\n",
       "    <tr>\n",
       "      <th>2</th>\n",
       "      <td>1</td>\n",
       "      <td>automatically</td>\n",
       "      <td>O</td>\n",
       "      <td>ADV</td>\n",
       "    </tr>\n",
       "    <tr>\n",
       "      <th>3</th>\n",
       "      <td>1</td>\n",
       "      <td>turn</td>\n",
       "      <td>ACTION</td>\n",
       "      <td>VERB</td>\n",
       "    </tr>\n",
       "    <tr>\n",
       "      <th>4</th>\n",
       "      <td>1</td>\n",
       "      <td>the</td>\n",
       "      <td>O</td>\n",
       "      <td>PRON</td>\n",
       "    </tr>\n",
       "  </tbody>\n",
       "</table>\n",
       "</div>"
      ],
      "text/plain": [
       "   Sentence           Word  Entity   POS\n",
       "0         1           help       O  VERB\n",
       "1         1             me       O  PRON\n",
       "2         1  automatically       O   ADV\n",
       "3         1           turn  ACTION  VERB\n",
       "4         1            the       O  PRON"
      ]
     },
     "execution_count": 24,
     "metadata": {},
     "output_type": "execute_result"
    }
   ],
   "source": [
    "df_tokenized.head()"
   ]
  },
  {
   "cell_type": "markdown",
   "id": "fa2cdb2b",
   "metadata": {},
   "source": [
    "**3. Separate features and label**"
   ]
  },
  {
   "cell_type": "code",
   "execution_count": 8,
   "id": "90738670",
   "metadata": {
    "id": "KYdcnxoWAIhy",
    "outputId": "48f93d6a-74c8-4d29-cd26-b11a544421ff"
   },
   "outputs": [
    {
     "data": {
      "text/html": [
       "<div>\n",
       "<style scoped>\n",
       "    .dataframe tbody tr th:only-of-type {\n",
       "        vertical-align: middle;\n",
       "    }\n",
       "\n",
       "    .dataframe tbody tr th {\n",
       "        vertical-align: top;\n",
       "    }\n",
       "\n",
       "    .dataframe thead th {\n",
       "        text-align: right;\n",
       "    }\n",
       "</style>\n",
       "<table border=\"1\" class=\"dataframe\">\n",
       "  <thead>\n",
       "    <tr style=\"text-align: right;\">\n",
       "      <th></th>\n",
       "      <th>Sentence</th>\n",
       "      <th>Word</th>\n",
       "    </tr>\n",
       "  </thead>\n",
       "  <tbody>\n",
       "    <tr>\n",
       "      <th>0</th>\n",
       "      <td>1</td>\n",
       "      <td>help</td>\n",
       "    </tr>\n",
       "    <tr>\n",
       "      <th>1</th>\n",
       "      <td>1</td>\n",
       "      <td>me</td>\n",
       "    </tr>\n",
       "    <tr>\n",
       "      <th>2</th>\n",
       "      <td>1</td>\n",
       "      <td>automatically</td>\n",
       "    </tr>\n",
       "    <tr>\n",
       "      <th>3</th>\n",
       "      <td>1</td>\n",
       "      <td>turn</td>\n",
       "    </tr>\n",
       "    <tr>\n",
       "      <th>4</th>\n",
       "      <td>1</td>\n",
       "      <td>the</td>\n",
       "    </tr>\n",
       "  </tbody>\n",
       "</table>\n",
       "</div>"
      ],
      "text/plain": [
       "   Sentence           Word\n",
       "0         1           help\n",
       "1         1             me\n",
       "2         1  automatically\n",
       "3         1           turn\n",
       "4         1            the"
      ]
     },
     "execution_count": 8,
     "metadata": {},
     "output_type": "execute_result"
    }
   ],
   "source": [
    "X = df_tokenized.drop('Entity', axis=1)\n",
    "X.head()"
   ]
  },
  {
   "cell_type": "code",
   "execution_count": 9,
   "id": "d6e69f32",
   "metadata": {
    "id": "-yOP02oPAIhy",
    "outputId": "acb9e2f5-fe3a-466a-9866-0172fa2ce8ef"
   },
   "outputs": [
    {
     "data": {
      "text/plain": [
       "(827, 261)"
      ]
     },
     "execution_count": 9,
     "metadata": {},
     "output_type": "execute_result"
    }
   ],
   "source": [
    "v = DictVectorizer(sparse=False)\n",
    "X = v.fit_transform(X.to_dict('records'))\n",
    "X.shape"
   ]
  },
  {
   "cell_type": "code",
   "execution_count": 10,
   "id": "5077fbca",
   "metadata": {
    "id": "pBAuCnXLAIhy"
   },
   "outputs": [],
   "source": [
    "y = df_tokenized.Entity.values"
   ]
  },
  {
   "cell_type": "code",
   "execution_count": 11,
   "id": "76b3e961",
   "metadata": {
    "id": "w5pvOt1fAIhy"
   },
   "outputs": [],
   "source": [
    "classes = np.unique(y)"
   ]
  },
  {
   "cell_type": "code",
   "execution_count": 12,
   "id": "3bfb9dab",
   "metadata": {
    "id": "Y6FH-P_gAIhy",
    "outputId": "c13b1552-aa08-458e-aded-a8c640e9c198"
   },
   "outputs": [
    {
     "data": {
      "text/plain": [
       "['ACTION',\n",
       " 'DEVICE',\n",
       " 'LOCATION',\n",
       " 'O',\n",
       " 'SERVICE',\n",
       " 'STATE',\n",
       " 'TIME',\n",
       " 'UNIT',\n",
       " 'VAL']"
      ]
     },
     "execution_count": 12,
     "metadata": {},
     "output_type": "execute_result"
    }
   ],
   "source": [
    "classes = classes.tolist()\n",
    "classes"
   ]
  },
  {
   "cell_type": "code",
   "execution_count": 13,
   "id": "eedabba1",
   "metadata": {
    "id": "A4qgQiEbAIhz",
    "outputId": "a9db58cc-c523-4328-b4f5-ba9935b94169"
   },
   "outputs": [
    {
     "name": "stdout",
     "output_type": "stream",
     "text": [
      "Features Dimensions:  (827, 261)\n",
      "Target Dimensions:  (827,)\n"
     ]
    }
   ],
   "source": [
    "print('Features Dimensions: ',X.shape)\n",
    "print('Target Dimensions: ',y.shape)"
   ]
  },
  {
   "cell_type": "markdown",
   "id": "38fa0528",
   "metadata": {},
   "source": [
    "**4. Train-Test Split**"
   ]
  },
  {
   "cell_type": "code",
   "execution_count": 15,
   "id": "bd897aec",
   "metadata": {
    "id": "C_yKH3Q-AIhz"
   },
   "outputs": [],
   "source": [
    "X_train, X_test, y_train, y_test = train_test_split(X, y, test_size = 0.33, random_state=0)"
   ]
  },
  {
   "cell_type": "code",
   "execution_count": 16,
   "id": "b5d2a9e1",
   "metadata": {
    "id": "kBKmF7OfAIhz",
    "outputId": "2e8778ae-4794-4538-fff4-e5d1830181b9"
   },
   "outputs": [
    {
     "data": {
      "text/plain": [
       "((554, 261), (554,))"
      ]
     },
     "execution_count": 16,
     "metadata": {},
     "output_type": "execute_result"
    }
   ],
   "source": [
    "X_train.shape, y_train.shape"
   ]
  },
  {
   "cell_type": "markdown",
   "id": "e8927da7",
   "metadata": {
    "id": "vMrvdNjiAIh1"
   },
   "source": [
    "**5. Train Naive Bayes classifier**"
   ]
  },
  {
   "cell_type": "code",
   "execution_count": 17,
   "id": "45ba1f23",
   "metadata": {
    "id": "jb65HKQCAIh1",
    "outputId": "3b88400e-dd37-4cc3-a080-d9e4cfb9c1fd"
   },
   "outputs": [
    {
     "data": {
      "text/html": [
       "<style>#sk-container-id-1 {color: black;background-color: white;}#sk-container-id-1 pre{padding: 0;}#sk-container-id-1 div.sk-toggleable {background-color: white;}#sk-container-id-1 label.sk-toggleable__label {cursor: pointer;display: block;width: 100%;margin-bottom: 0;padding: 0.3em;box-sizing: border-box;text-align: center;}#sk-container-id-1 label.sk-toggleable__label-arrow:before {content: \"▸\";float: left;margin-right: 0.25em;color: #696969;}#sk-container-id-1 label.sk-toggleable__label-arrow:hover:before {color: black;}#sk-container-id-1 div.sk-estimator:hover label.sk-toggleable__label-arrow:before {color: black;}#sk-container-id-1 div.sk-toggleable__content {max-height: 0;max-width: 0;overflow: hidden;text-align: left;background-color: #f0f8ff;}#sk-container-id-1 div.sk-toggleable__content pre {margin: 0.2em;color: black;border-radius: 0.25em;background-color: #f0f8ff;}#sk-container-id-1 input.sk-toggleable__control:checked~div.sk-toggleable__content {max-height: 200px;max-width: 100%;overflow: auto;}#sk-container-id-1 input.sk-toggleable__control:checked~label.sk-toggleable__label-arrow:before {content: \"▾\";}#sk-container-id-1 div.sk-estimator input.sk-toggleable__control:checked~label.sk-toggleable__label {background-color: #d4ebff;}#sk-container-id-1 div.sk-label input.sk-toggleable__control:checked~label.sk-toggleable__label {background-color: #d4ebff;}#sk-container-id-1 input.sk-hidden--visually {border: 0;clip: rect(1px 1px 1px 1px);clip: rect(1px, 1px, 1px, 1px);height: 1px;margin: -1px;overflow: hidden;padding: 0;position: absolute;width: 1px;}#sk-container-id-1 div.sk-estimator {font-family: monospace;background-color: #f0f8ff;border: 1px dotted black;border-radius: 0.25em;box-sizing: border-box;margin-bottom: 0.5em;}#sk-container-id-1 div.sk-estimator:hover {background-color: #d4ebff;}#sk-container-id-1 div.sk-parallel-item::after {content: \"\";width: 100%;border-bottom: 1px solid gray;flex-grow: 1;}#sk-container-id-1 div.sk-label:hover label.sk-toggleable__label {background-color: #d4ebff;}#sk-container-id-1 div.sk-serial::before {content: \"\";position: absolute;border-left: 1px solid gray;box-sizing: border-box;top: 0;bottom: 0;left: 50%;z-index: 0;}#sk-container-id-1 div.sk-serial {display: flex;flex-direction: column;align-items: center;background-color: white;padding-right: 0.2em;padding-left: 0.2em;position: relative;}#sk-container-id-1 div.sk-item {position: relative;z-index: 1;}#sk-container-id-1 div.sk-parallel {display: flex;align-items: stretch;justify-content: center;background-color: white;position: relative;}#sk-container-id-1 div.sk-item::before, #sk-container-id-1 div.sk-parallel-item::before {content: \"\";position: absolute;border-left: 1px solid gray;box-sizing: border-box;top: 0;bottom: 0;left: 50%;z-index: -1;}#sk-container-id-1 div.sk-parallel-item {display: flex;flex-direction: column;z-index: 1;position: relative;background-color: white;}#sk-container-id-1 div.sk-parallel-item:first-child::after {align-self: flex-end;width: 50%;}#sk-container-id-1 div.sk-parallel-item:last-child::after {align-self: flex-start;width: 50%;}#sk-container-id-1 div.sk-parallel-item:only-child::after {width: 0;}#sk-container-id-1 div.sk-dashed-wrapped {border: 1px dashed gray;margin: 0 0.4em 0.5em 0.4em;box-sizing: border-box;padding-bottom: 0.4em;background-color: white;}#sk-container-id-1 div.sk-label label {font-family: monospace;font-weight: bold;display: inline-block;line-height: 1.2em;}#sk-container-id-1 div.sk-label-container {text-align: center;}#sk-container-id-1 div.sk-container {/* jupyter's `normalize.less` sets `[hidden] { display: none; }` but bootstrap.min.css set `[hidden] { display: none !important; }` so we also need the `!important` here to be able to override the default hidden behavior on the sphinx rendered scikit-learn.org. See: https://github.com/scikit-learn/scikit-learn/issues/21755 */display: inline-block !important;position: relative;}#sk-container-id-1 div.sk-text-repr-fallback {display: none;}</style><div id=\"sk-container-id-1\" class=\"sk-top-container\"><div class=\"sk-text-repr-fallback\"><pre>MultinomialNB(alpha=0.01)</pre><b>In a Jupyter environment, please rerun this cell to show the HTML representation or trust the notebook. <br />On GitHub, the HTML representation is unable to render, please try loading this page with nbviewer.org.</b></div><div class=\"sk-container\" hidden><div class=\"sk-item\"><div class=\"sk-estimator sk-toggleable\"><input class=\"sk-toggleable__control sk-hidden--visually\" id=\"sk-estimator-id-1\" type=\"checkbox\" checked><label for=\"sk-estimator-id-1\" class=\"sk-toggleable__label sk-toggleable__label-arrow\">MultinomialNB</label><div class=\"sk-toggleable__content\"><pre>MultinomialNB(alpha=0.01)</pre></div></div></div></div></div>"
      ],
      "text/plain": [
       "MultinomialNB(alpha=0.01)"
      ]
     },
     "execution_count": 17,
     "metadata": {},
     "output_type": "execute_result"
    }
   ],
   "source": [
    "nb = MultinomialNB(alpha=0.01)\n",
    "nb.partial_fit(X_train, y_train, classes)"
   ]
  },
  {
   "cell_type": "markdown",
   "id": "7da49f05",
   "metadata": {},
   "source": [
    "# Evaluation\n",
    "### On test split"
   ]
  },
  {
   "cell_type": "code",
   "execution_count": 18,
   "id": "a9598e22",
   "metadata": {
    "id": "tY4vQgGwAIh1",
    "outputId": "06b4646c-ee47-4cf8-ce9b-d4edc4b67942"
   },
   "outputs": [
    {
     "name": "stdout",
     "output_type": "stream",
     "text": [
      "              precision    recall  f1-score   support\n",
      "\n",
      "      ACTION       1.00      0.80      0.89        25\n",
      "      DEVICE       0.25      0.38      0.30         8\n",
      "    LOCATION       1.00      0.41      0.58        17\n",
      "           O       0.84      0.98      0.90       192\n",
      "     SERVICE       0.00      0.00      0.00         1\n",
      "       STATE       0.00      0.00      0.00         4\n",
      "        TIME       0.00      0.00      0.00         2\n",
      "        UNIT       0.00      0.00      0.00         2\n",
      "         VAL       1.00      0.23      0.37        22\n",
      "\n",
      "    accuracy                           0.82       273\n",
      "   macro avg       0.45      0.31      0.34       273\n",
      "weighted avg       0.83      0.82      0.79       273\n",
      "\n"
     ]
    },
    {
     "name": "stderr",
     "output_type": "stream",
     "text": [
      "/opt/homebrew/anaconda3/envs/jetendar_thesis/lib/python3.9/site-packages/sklearn/metrics/_classification.py:1334: UndefinedMetricWarning: Precision and F-score are ill-defined and being set to 0.0 in labels with no predicted samples. Use `zero_division` parameter to control this behavior.\n",
      "  _warn_prf(average, modifier, msg_start, len(result))\n",
      "/opt/homebrew/anaconda3/envs/jetendar_thesis/lib/python3.9/site-packages/sklearn/metrics/_classification.py:1334: UndefinedMetricWarning: Precision and F-score are ill-defined and being set to 0.0 in labels with no predicted samples. Use `zero_division` parameter to control this behavior.\n",
      "  _warn_prf(average, modifier, msg_start, len(result))\n",
      "/opt/homebrew/anaconda3/envs/jetendar_thesis/lib/python3.9/site-packages/sklearn/metrics/_classification.py:1334: UndefinedMetricWarning: Precision and F-score are ill-defined and being set to 0.0 in labels with no predicted samples. Use `zero_division` parameter to control this behavior.\n",
      "  _warn_prf(average, modifier, msg_start, len(result))\n"
     ]
    }
   ],
   "source": [
    "print(classification_report(y_pred=nb.predict(X_test), y_true=y_test, labels = classes))"
   ]
  },
  {
   "cell_type": "markdown",
   "id": "7cdf84a5",
   "metadata": {},
   "source": [
    "### on evaludation data"
   ]
  },
  {
   "cell_type": "code",
   "execution_count": 30,
   "id": "efcecad9",
   "metadata": {},
   "outputs": [
    {
     "name": "stdout",
     "output_type": "stream",
     "text": [
      "              precision    recall  f1-score   support\n",
      "\n",
      "      ACTION       1.00      0.93      0.96        83\n",
      "      DEVICE       0.79      0.87      0.83        39\n",
      "    LOCATION       1.00      0.78      0.87        58\n",
      "           O       0.92      0.99      0.96       546\n",
      "     SERVICE       0.00      0.00      0.00         1\n",
      "       STATE       0.40      0.20      0.27        10\n",
      "        TIME       1.00      0.33      0.50         3\n",
      "        UNIT       1.00      0.89      0.94        18\n",
      "         VAL       1.00      0.75      0.86        69\n",
      "\n",
      "    accuracy                           0.93       827\n",
      "   macro avg       0.79      0.64      0.69       827\n",
      "weighted avg       0.93      0.93      0.93       827\n",
      "\n"
     ]
    },
    {
     "name": "stderr",
     "output_type": "stream",
     "text": [
      "/opt/homebrew/anaconda3/envs/jetendar_thesis/lib/python3.9/site-packages/sklearn/metrics/_classification.py:1334: UndefinedMetricWarning: Precision and F-score are ill-defined and being set to 0.0 in labels with no predicted samples. Use `zero_division` parameter to control this behavior.\n",
      "  _warn_prf(average, modifier, msg_start, len(result))\n",
      "/opt/homebrew/anaconda3/envs/jetendar_thesis/lib/python3.9/site-packages/sklearn/metrics/_classification.py:1334: UndefinedMetricWarning: Precision and F-score are ill-defined and being set to 0.0 in labels with no predicted samples. Use `zero_division` parameter to control this behavior.\n",
      "  _warn_prf(average, modifier, msg_start, len(result))\n",
      "/opt/homebrew/anaconda3/envs/jetendar_thesis/lib/python3.9/site-packages/sklearn/metrics/_classification.py:1334: UndefinedMetricWarning: Precision and F-score are ill-defined and being set to 0.0 in labels with no predicted samples. Use `zero_division` parameter to control this behavior.\n",
      "  _warn_prf(average, modifier, msg_start, len(result))\n"
     ]
    }
   ],
   "source": [
    "X_eval = df_tokenized_eval.drop('Entity', axis=1)\n",
    "X_eval = v.transform(X_eval.to_dict('records'))\n",
    "y_eval = df_tokenized_eval.Entity.values\n",
    "\n",
    "print(classification_report(y_pred=nb.predict(X_eval), y_true=y_eval, labels = classes))"
   ]
  },
  {
   "cell_type": "code",
   "execution_count": null,
   "id": "fc4f94a0",
   "metadata": {},
   "outputs": [],
   "source": []
  }
 ],
 "metadata": {
  "kernelspec": {
   "display_name": "Python 3 (ipykernel)",
   "language": "python",
   "name": "python3"
  },
  "language_info": {
   "codemirror_mode": {
    "name": "ipython",
    "version": 3
   },
   "file_extension": ".py",
   "mimetype": "text/x-python",
   "name": "python",
   "nbconvert_exporter": "python",
   "pygments_lexer": "ipython3",
   "version": "3.9.13"
  }
 },
 "nbformat": 4,
 "nbformat_minor": 5
}
