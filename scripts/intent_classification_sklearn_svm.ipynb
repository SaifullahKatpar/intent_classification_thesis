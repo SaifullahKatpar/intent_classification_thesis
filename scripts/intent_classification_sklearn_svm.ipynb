{
 "cells": [
  {
   "cell_type": "code",
   "execution_count": 3,
   "id": "b282b9aa",
   "metadata": {},
   "outputs": [],
   "source": [
    "import pandas as pd\n",
    "import numpy as np"
   ]
  },
  {
   "cell_type": "code",
   "execution_count": 9,
   "id": "863dc6e2",
   "metadata": {},
   "outputs": [],
   "source": [
    "df=pd.read_csv('./data/intent-data.csv',header=None,names=[\"sentence\",\"label\"])"
   ]
  },
  {
   "cell_type": "code",
   "execution_count": 10,
   "id": "41483752",
   "metadata": {},
   "outputs": [
    {
     "data": {
      "text/html": [
       "<div>\n",
       "<style scoped>\n",
       "    .dataframe tbody tr th:only-of-type {\n",
       "        vertical-align: middle;\n",
       "    }\n",
       "\n",
       "    .dataframe tbody tr th {\n",
       "        vertical-align: top;\n",
       "    }\n",
       "\n",
       "    .dataframe thead th {\n",
       "        text-align: right;\n",
       "    }\n",
       "</style>\n",
       "<table border=\"1\" class=\"dataframe\">\n",
       "  <thead>\n",
       "    <tr style=\"text-align: right;\">\n",
       "      <th></th>\n",
       "      <th>sentence</th>\n",
       "      <th>label</th>\n",
       "    </tr>\n",
       "  </thead>\n",
       "  <tbody>\n",
       "    <tr>\n",
       "      <th>0</th>\n",
       "      <td>help me automatically turn the here colouring ...</td>\n",
       "      <td>DecreaseValue_Colour</td>\n",
       "    </tr>\n",
       "    <tr>\n",
       "      <th>1</th>\n",
       "      <td>i’ll love to decline the colouring out here fo...</td>\n",
       "      <td>DecreaseValue_Colour</td>\n",
       "    </tr>\n",
       "    <tr>\n",
       "      <th>2</th>\n",
       "      <td>i’d like to put down hue for me in front porch...</td>\n",
       "      <td>DecreaseValue_Colour</td>\n",
       "    </tr>\n",
       "    <tr>\n",
       "      <th>3</th>\n",
       "      <td>i’d need to destroy joyfull colour environment...</td>\n",
       "      <td>DecreaseValue_Colour</td>\n",
       "    </tr>\n",
       "    <tr>\n",
       "      <th>4</th>\n",
       "      <td>i would prefer to automatically a little apart...</td>\n",
       "      <td>DecreaseValue_Colour</td>\n",
       "    </tr>\n",
       "  </tbody>\n",
       "</table>\n",
       "</div>"
      ],
      "text/plain": [
       "                                            sentence                 label\n",
       "0  help me automatically turn the here colouring ...  DecreaseValue_Colour\n",
       "1  i’ll love to decline the colouring out here fo...  DecreaseValue_Colour\n",
       "2  i’d like to put down hue for me in front porch...  DecreaseValue_Colour\n",
       "3  i’d need to destroy joyfull colour environment...  DecreaseValue_Colour\n",
       "4  i would prefer to automatically a little apart...  DecreaseValue_Colour"
      ]
     },
     "execution_count": 10,
     "metadata": {},
     "output_type": "execute_result"
    }
   ],
   "source": [
    "df.head()"
   ]
  },
  {
   "cell_type": "code",
   "execution_count": 11,
   "id": "0809f6f2",
   "metadata": {},
   "outputs": [
    {
     "data": {
      "text/plain": [
       "779299"
      ]
     },
     "execution_count": 11,
     "metadata": {},
     "output_type": "execute_result"
    }
   ],
   "source": [
    "len(df)"
   ]
  },
  {
   "cell_type": "code",
   "execution_count": 12,
   "id": "60a4a57c",
   "metadata": {},
   "outputs": [],
   "source": [
    "df_sm = df.sample(n=int(len(df)*.4), random_state=0)"
   ]
  },
  {
   "cell_type": "code",
   "execution_count": 13,
   "id": "100f5b12",
   "metadata": {},
   "outputs": [
    {
     "data": {
      "text/plain": [
       "311719"
      ]
     },
     "execution_count": 13,
     "metadata": {},
     "output_type": "execute_result"
    }
   ],
   "source": [
    "len(df_sm)"
   ]
  },
  {
   "cell_type": "code",
   "execution_count": null,
   "id": "35720bcc",
   "metadata": {},
   "outputs": [],
   "source": [
    "from tqdm import tqdm"
   ]
  },
  {
   "cell_type": "code",
   "execution_count": null,
   "id": "445e80e0",
   "metadata": {},
   "outputs": [],
   "source": [
    "%timeit\n",
    "import spacy\n",
    "# Load the spacy model: nlp\n",
    "nlp = spacy.load(\"en_core_web_md\")\n",
    "# nlp = spacy.load('en')\n",
    "\n",
    "# Calculate the length of sentences\n",
    "n_sentences = len(df_sm.sentence.values)\n",
    "\n",
    "# Calculate the dimensionality of nlp\n",
    "embedding_dim = nlp.vocab.vectors_length\n",
    "\n",
    "# Initialize the array with zeros: X\n",
    "X = np.zeros((n_sentences, embedding_dim))\n",
    "\n",
    "# Iterate over the sentences\n",
    "for idx, sentence in tqdm(enumerate(list(df_sm.sentence.values))):\n",
    "    # Pass each each sentence to the nlp object to create a document\n",
    "    doc = nlp(sentence)\n",
    "#     print(doc.vector÷.shape)\n",
    "    # Save the document's .vector attribute to the corresponding row in X\n",
    "    X[idx, :] = doc.vector"
   ]
  },
  {
   "cell_type": "code",
   "execution_count": 7,
   "id": "d0eaab00",
   "metadata": {},
   "outputs": [],
   "source": [
    "X = pd.read_csv(\"./data/X.csv\",header=None)\n",
    "X = X.to_numpy()"
   ]
  },
  {
   "cell_type": "code",
   "execution_count": 8,
   "id": "7dfc7e4f",
   "metadata": {},
   "outputs": [
    {
     "data": {
      "text/plain": [
       "array([[-0.73218173,  0.0778915 , -0.08329225, ..., -0.14472984,\n",
       "        -0.21634518,  0.19350094],\n",
       "       [-0.71465689,  0.20026615, -0.06049445, ..., -0.1076377 ,\n",
       "         0.14135692,  0.10847796],\n",
       "       [-0.6446557 ,  0.21086857, -0.03423078, ..., -0.13815571,\n",
       "         0.02054221,  0.18889627],\n",
       "       ...,\n",
       "       [-0.73211092,  0.37252179, -0.25415707, ..., -0.1542591 ,\n",
       "         0.08473909,  0.17621964],\n",
       "       [-0.72678298,  0.41114467, -0.12529901, ..., -0.1732145 ,\n",
       "        -0.0020644 , -0.1352291 ],\n",
       "       [-0.73501992,  0.19754988,  0.11446357, ..., -0.32455152,\n",
       "         0.12151422,  0.12974578]])"
      ]
     },
     "execution_count": 8,
     "metadata": {},
     "output_type": "execute_result"
    }
   ],
   "source": [
    "X"
   ]
  },
  {
   "cell_type": "code",
   "execution_count": null,
   "id": "0102a007",
   "metadata": {},
   "outputs": [],
   "source": [
    "# np.savetxt(\"./data/X.csv\", X, delimiter=\",\")"
   ]
  },
  {
   "cell_type": "code",
   "execution_count": 14,
   "id": "ed769d57",
   "metadata": {},
   "outputs": [],
   "source": [
    "from sklearn import preprocessing\n",
    "\n",
    "le = preprocessing.LabelEncoder()\n",
    "\n",
    "le.fit(df_sm.label)\n",
    "\n",
    "y = le.transform(df_sm.label)"
   ]
  },
  {
   "cell_type": "code",
   "execution_count": 15,
   "id": "bd8be9fe",
   "metadata": {},
   "outputs": [],
   "source": [
    "from sklearn.model_selection import train_test_split\n",
    "\n",
    "X_train, X_test, y_train, y_test = train_test_split(X, y, test_size = 0.33, random_state=0)"
   ]
  },
  {
   "cell_type": "code",
   "execution_count": null,
   "id": "7fea507e",
   "metadata": {},
   "outputs": [],
   "source": [
    "# Import SVC\n",
    "from sklearn.svm import SVC\n",
    "\n",
    "# Create a support vector classifier\n",
    "clf = SVC(C=1)\n",
    "\n",
    "# Fit the classifier using the training data\n",
    "clf.fit(X_train, y_train)\n"
   ]
  },
  {
   "cell_type": "code",
   "execution_count": null,
   "id": "2bccf3c8",
   "metadata": {},
   "outputs": [],
   "source": [
    "\n",
    "# Predict the labels of the test set\n",
    "y_pred = clf.predict(X_test)\n",
    "\n",
    "# Count the number of correct predictions\n",
    "n_correct = 0\n",
    "for i in range(len(y_test)):\n",
    "    if y_pred[i] == y_test[i]:\n",
    "        n_correct += 1\n",
    "\n",
    "print(\"Predicted {0} correctly out of {1} test examples\".format(n_correct, len(y_test)))"
   ]
  }
 ],
 "metadata": {
  "kernelspec": {
   "display_name": "Python 3 (ipykernel)",
   "language": "python",
   "name": "python3"
  },
  "language_info": {
   "codemirror_mode": {
    "name": "ipython",
    "version": 3
   },
   "file_extension": ".py",
   "mimetype": "text/x-python",
   "name": "python",
   "nbconvert_exporter": "python",
   "pygments_lexer": "ipython3",
   "version": "3.9.13"
  }
 },
 "nbformat": 4,
 "nbformat_minor": 5
}
