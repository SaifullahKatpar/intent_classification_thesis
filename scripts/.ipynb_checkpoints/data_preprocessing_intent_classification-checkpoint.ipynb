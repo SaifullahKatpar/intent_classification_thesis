{
 "cells": [
  {
   "cell_type": "markdown",
   "id": "0a87e5b7",
   "metadata": {},
   "source": [
    "# Process data for Intent Classification"
   ]
  },
  {
   "cell_type": "markdown",
   "id": "c82e12c6",
   "metadata": {},
   "source": [
    "**1. Load data**"
   ]
  },
  {
   "cell_type": "code",
   "execution_count": 47,
   "id": "ec63d6de",
   "metadata": {},
   "outputs": [
    {
     "name": "stdout",
     "output_type": "stream",
     "text": [
      "Dataset Size:  1,870,411\n"
     ]
    }
   ],
   "source": [
    "# input_path = \"../data/utterances_1.txt\"\n",
    "# output_path =\"../data/intent_data.csv\"\n",
    "input_path = \"../data/testing.txt\"\n",
    "output_path =\"../data/intent_data_eval.csv\"\n",
    "\n",
    "data = open(input_path, \"r\").readlines()\n",
    "print('Dataset Size: ',f\"{len(data):,}\")"
   ]
  },
  {
   "cell_type": "markdown",
   "id": "38d3c318",
   "metadata": {},
   "source": [
    "**1. Load libraries**"
   ]
  },
  {
   "cell_type": "code",
   "execution_count": 48,
   "id": "603b6007",
   "metadata": {},
   "outputs": [],
   "source": [
    "import pandas as pd\n",
    "import numpy as np"
   ]
  },
  {
   "cell_type": "markdown",
   "id": "0d3f5402",
   "metadata": {},
   "source": [
    "**2. Parse text**"
   ]
  },
  {
   "cell_type": "code",
   "execution_count": 49,
   "id": "b80825b8",
   "metadata": {},
   "outputs": [
    {
     "data": {
      "text/html": [
       "<div>\n",
       "<style scoped>\n",
       "    .dataframe tbody tr th:only-of-type {\n",
       "        vertical-align: middle;\n",
       "    }\n",
       "\n",
       "    .dataframe tbody tr th {\n",
       "        vertical-align: top;\n",
       "    }\n",
       "\n",
       "    .dataframe thead th {\n",
       "        text-align: right;\n",
       "    }\n",
       "</style>\n",
       "<table border=\"1\" class=\"dataframe\">\n",
       "  <thead>\n",
       "    <tr style=\"text-align: right;\">\n",
       "      <th></th>\n",
       "      <th>sentences</th>\n",
       "      <th>labels</th>\n",
       "      <th>EFFECT</th>\n",
       "      <th>PARAM</th>\n",
       "      <th>SCOPE</th>\n",
       "      <th>GOAL</th>\n",
       "    </tr>\n",
       "  </thead>\n",
       "  <tbody>\n",
       "    <tr>\n",
       "      <th>0</th>\n",
       "      <td>help me automatically ACTION:turn the LOCATION...</td>\n",
       "      <td>EFFECT:DecreaseValue PARAM:Colour SCOPE:Global...</td>\n",
       "      <td>DecreaseValue</td>\n",
       "      <td>Colour</td>\n",
       "      <td>Global</td>\n",
       "      <td>Indirect</td>\n",
       "    </tr>\n",
       "    <tr>\n",
       "      <th>1</th>\n",
       "      <td>please i need DEVICE:kettle LOCATION:out_here ...</td>\n",
       "      <td>SCOPE:Device GOAL:DeviceCommand</td>\n",
       "      <td>NaN</td>\n",
       "      <td>NaN</td>\n",
       "      <td>Device</td>\n",
       "      <td>DeviceCommand</td>\n",
       "    </tr>\n",
       "    <tr>\n",
       "      <th>2</th>\n",
       "      <td>automatically ACTION:lessen my DEVICE:smartpho...</td>\n",
       "      <td>EFFECT:FixedValue PARAM:Brightness SCOPE:Devic...</td>\n",
       "      <td>FixedValue</td>\n",
       "      <td>Brightness</td>\n",
       "      <td>Device</td>\n",
       "      <td>DeviceCommand</td>\n",
       "    </tr>\n",
       "    <tr>\n",
       "      <th>3</th>\n",
       "      <td>ACTION:suggest_us some VAL:loving for me</td>\n",
       "      <td>SCOPE:Global GOAL:Direct</td>\n",
       "      <td>NaN</td>\n",
       "      <td>NaN</td>\n",
       "      <td>Global</td>\n",
       "      <td>Direct</td>\n",
       "    </tr>\n",
       "    <tr>\n",
       "      <th>4</th>\n",
       "      <td>i prefer to have ACTION:make this DEVICE:windo...</td>\n",
       "      <td>SCOPE:Device GOAL:DeviceCommand</td>\n",
       "      <td>NaN</td>\n",
       "      <td>NaN</td>\n",
       "      <td>Device</td>\n",
       "      <td>DeviceCommand</td>\n",
       "    </tr>\n",
       "  </tbody>\n",
       "</table>\n",
       "</div>"
      ],
      "text/plain": [
       "                                           sentences  \\\n",
       "0  help me automatically ACTION:turn the LOCATION...   \n",
       "1  please i need DEVICE:kettle LOCATION:out_here ...   \n",
       "2  automatically ACTION:lessen my DEVICE:smartpho...   \n",
       "3           ACTION:suggest_us some VAL:loving for me   \n",
       "4  i prefer to have ACTION:make this DEVICE:windo...   \n",
       "\n",
       "                                              labels         EFFECT  \\\n",
       "0  EFFECT:DecreaseValue PARAM:Colour SCOPE:Global...  DecreaseValue   \n",
       "1                    SCOPE:Device GOAL:DeviceCommand            NaN   \n",
       "2  EFFECT:FixedValue PARAM:Brightness SCOPE:Devic...     FixedValue   \n",
       "3                           SCOPE:Global GOAL:Direct            NaN   \n",
       "4                    SCOPE:Device GOAL:DeviceCommand            NaN   \n",
       "\n",
       "        PARAM   SCOPE           GOAL  \n",
       "0      Colour  Global       Indirect  \n",
       "1         NaN  Device  DeviceCommand  \n",
       "2  Brightness  Device  DeviceCommand  \n",
       "3         NaN  Global         Direct  \n",
       "4         NaN  Device  DeviceCommand  "
      ]
     },
     "execution_count": 49,
     "metadata": {},
     "output_type": "execute_result"
    }
   ],
   "source": [
    "\n",
    "ENTITIES = [\"DEVICE\",\"DEIVCE\",\"Device\",\"PREFERENCE\",\"ACTION\",\"VAL\", \"VALUE\",\"UNIT\",\"LOCATION\",\"STATE\",\"SERVICE:\",\"SERVICE\",\"TIME\",\"ATION\", \"QUANTITY\"]\n",
    "\n",
    "sentence = []\n",
    "labels = []\n",
    "for line in data:\n",
    "    split_lines = line.split('|||')    \n",
    "    sentence.append(split_lines[0].strip())\n",
    "    labels.append(split_lines[1].strip())\n",
    "\n",
    "df = pd.DataFrame({'sentences':sentence,'labels':labels})\n",
    "\n",
    "physical_parameters = [ \"Color\" ,\"Temperature\" ,\"Brightness\" ,\"Volume\" ,\"AirQuality\" ,\"Humidity\",\"Channel\" ,\"Noise\" ,\"EnergyConsumption\",\"WaterConsumption\"]\n",
    "effect =    [\"DecreaseValue\" ,\"FixedValue\" ,\"IncreaseValue\"  ,\"DEcreaseValue\"]\n",
    "goal =      [\"Direct\", \"Indirect\"]\n",
    "scope =     [\"Global\",\"Device\"]\n",
    "df['EFFECT'] = df['labels'].str.findall('EFFECT:(\\S*).*').str[0]\n",
    "df['EFFECT'] = df['EFFECT'].str.replace('DEcreaseValue','DecreaseValue')\n",
    "\n",
    "df['PARAM'] = df['labels'].str.findall('PARAM:(\\S*).*').str[0]\n",
    "df['SCOPE'] = df['labels'].str.findall('SCOPE:(\\S*).*').str[0]\n",
    "df['GOAL'] = df['labels'].str.findall('GOAL:(\\S*).*').str[0]\n",
    "df.head()\n"
   ]
  },
  {
   "cell_type": "markdown",
   "id": "7cfa757b",
   "metadata": {},
   "source": [
    "**3. Remove extra words from sentences**"
   ]
  },
  {
   "cell_type": "code",
   "execution_count": null,
   "id": "5e8fd0d7",
   "metadata": {},
   "outputs": [],
   "source": [
    "for entity in ENTITIES:\n",
    "    df['sentences'] = df['sentences'].str.replace(entity+':','')\n",
    "df.head()"
   ]
  },
  {
   "cell_type": "code",
   "execution_count": null,
   "id": "9734b0f3",
   "metadata": {},
   "outputs": [],
   "source": [
    "df[['sentence','label']] = df[['sentences','GOAL']]"
   ]
  },
  {
   "cell_type": "code",
   "execution_count": null,
   "id": "33627540",
   "metadata": {},
   "outputs": [],
   "source": [
    "df[['sentence','label']].to_csv(output_path,index=False)"
   ]
  }
 ],
 "metadata": {
  "kernelspec": {
   "display_name": "Python 3 (ipykernel)",
   "language": "python",
   "name": "python3"
  },
  "language_info": {
   "codemirror_mode": {
    "name": "ipython",
    "version": 3
   },
   "file_extension": ".py",
   "mimetype": "text/x-python",
   "name": "python",
   "nbconvert_exporter": "python",
   "pygments_lexer": "ipython3",
   "version": "3.9.13"
  }
 },
 "nbformat": 4,
 "nbformat_minor": 5
}
