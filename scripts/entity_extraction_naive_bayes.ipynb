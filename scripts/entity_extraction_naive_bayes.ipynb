{
 "cells": [
  {
   "cell_type": "code",
   "execution_count": 1,
   "id": "d91bc567",
   "metadata": {},
   "outputs": [],
   "source": [
    "import pandas as pd\n",
    "import numpy as np\n",
    "from sklearn.feature_extraction import DictVectorizer\n",
    "from sklearn.feature_extraction.text import HashingVectorizer\n",
    "# from sklearn.linear_model import Perceptron\n",
    "from sklearn.model_selection import train_test_split\n",
    "# from sklearn.linear_model import SGDClassifier\n",
    "# from sklearn.linear_model import PassiveAggressiveClassifier\n",
    "from sklearn.naive_bayes import MultinomialNB\n",
    "from sklearn.metrics import classification_report"
   ]
  },
  {
   "cell_type": "code",
   "execution_count": 2,
   "id": "edf34839",
   "metadata": {},
   "outputs": [
    {
     "name": "stdout",
     "output_type": "stream",
     "text": [
      "1.1.3\n"
     ]
    }
   ],
   "source": [
    "import sklearn\n",
    "print(sklearn.__version__)"
   ]
  },
  {
   "cell_type": "code",
   "execution_count": 3,
   "id": "ec63d6de",
   "metadata": {},
   "outputs": [
    {
     "data": {
      "text/plain": [
       "1870411"
      ]
     },
     "execution_count": 3,
     "metadata": {},
     "output_type": "execute_result"
    }
   ],
   "source": [
    "data = open(\"utterances_1.txt\", \"r\").readlines()\n",
    "# data = data[:10000]\n",
    "len(data)"
   ]
  },
  {
   "cell_type": "markdown",
   "id": "70f6a56e",
   "metadata": {},
   "source": [
    "# Dataset Preparation"
   ]
  },
  {
   "cell_type": "code",
   "execution_count": 4,
   "id": "b80825b8",
   "metadata": {},
   "outputs": [
    {
     "data": {
      "text/html": [
       "<div>\n",
       "<style scoped>\n",
       "    .dataframe tbody tr th:only-of-type {\n",
       "        vertical-align: middle;\n",
       "    }\n",
       "\n",
       "    .dataframe tbody tr th {\n",
       "        vertical-align: top;\n",
       "    }\n",
       "\n",
       "    .dataframe thead th {\n",
       "        text-align: right;\n",
       "    }\n",
       "</style>\n",
       "<table border=\"1\" class=\"dataframe\">\n",
       "  <thead>\n",
       "    <tr style=\"text-align: right;\">\n",
       "      <th></th>\n",
       "      <th>sentences</th>\n",
       "      <th>labels</th>\n",
       "      <th>EFFECT</th>\n",
       "      <th>PARAM</th>\n",
       "      <th>SCOPE</th>\n",
       "      <th>GOAL</th>\n",
       "    </tr>\n",
       "  </thead>\n",
       "  <tbody>\n",
       "    <tr>\n",
       "      <th>0</th>\n",
       "      <td>help me automatically ACTION:turn the LOCATION...</td>\n",
       "      <td>EFFECT:DecreaseValue PARAM:Colour SCOPE:Global...</td>\n",
       "      <td>DecreaseValue</td>\n",
       "      <td>Colour</td>\n",
       "      <td>Global</td>\n",
       "      <td>Indirect</td>\n",
       "    </tr>\n",
       "    <tr>\n",
       "      <th>1</th>\n",
       "      <td>please i need DEVICE:kettle LOCATION:out_here ...</td>\n",
       "      <td>SCOPE:Device GOAL:DeviceCommand</td>\n",
       "      <td>NaN</td>\n",
       "      <td>NaN</td>\n",
       "      <td>Device</td>\n",
       "      <td>DeviceCommand</td>\n",
       "    </tr>\n",
       "    <tr>\n",
       "      <th>2</th>\n",
       "      <td>automatically ACTION:lessen my DEVICE:smartpho...</td>\n",
       "      <td>EFFECT:FixedValue PARAM:Brightness SCOPE:Devic...</td>\n",
       "      <td>FixedValue</td>\n",
       "      <td>Brightness</td>\n",
       "      <td>Device</td>\n",
       "      <td>DeviceCommand</td>\n",
       "    </tr>\n",
       "    <tr>\n",
       "      <th>3</th>\n",
       "      <td>ACTION:suggest_us some VAL:loving for me</td>\n",
       "      <td>SCOPE:Global GOAL:Direct</td>\n",
       "      <td>NaN</td>\n",
       "      <td>NaN</td>\n",
       "      <td>Global</td>\n",
       "      <td>Direct</td>\n",
       "    </tr>\n",
       "    <tr>\n",
       "      <th>4</th>\n",
       "      <td>i prefer to have ACTION:make this DEVICE:windo...</td>\n",
       "      <td>SCOPE:Device GOAL:DeviceCommand</td>\n",
       "      <td>NaN</td>\n",
       "      <td>NaN</td>\n",
       "      <td>Device</td>\n",
       "      <td>DeviceCommand</td>\n",
       "    </tr>\n",
       "  </tbody>\n",
       "</table>\n",
       "</div>"
      ],
      "text/plain": [
       "                                           sentences  \\\n",
       "0  help me automatically ACTION:turn the LOCATION...   \n",
       "1  please i need DEVICE:kettle LOCATION:out_here ...   \n",
       "2  automatically ACTION:lessen my DEVICE:smartpho...   \n",
       "3           ACTION:suggest_us some VAL:loving for me   \n",
       "4  i prefer to have ACTION:make this DEVICE:windo...   \n",
       "\n",
       "                                              labels         EFFECT  \\\n",
       "0  EFFECT:DecreaseValue PARAM:Colour SCOPE:Global...  DecreaseValue   \n",
       "1                    SCOPE:Device GOAL:DeviceCommand            NaN   \n",
       "2  EFFECT:FixedValue PARAM:Brightness SCOPE:Devic...     FixedValue   \n",
       "3                           SCOPE:Global GOAL:Direct            NaN   \n",
       "4                    SCOPE:Device GOAL:DeviceCommand            NaN   \n",
       "\n",
       "        PARAM   SCOPE           GOAL  \n",
       "0      Colour  Global       Indirect  \n",
       "1         NaN  Device  DeviceCommand  \n",
       "2  Brightness  Device  DeviceCommand  \n",
       "3         NaN  Global         Direct  \n",
       "4         NaN  Device  DeviceCommand  "
      ]
     },
     "execution_count": 4,
     "metadata": {},
     "output_type": "execute_result"
    }
   ],
   "source": [
    "\n",
    "ENTITIES = [\"DEVICE\",\"DEIVCE\",\"Device\",\"PREFERENCE\",\"ACTION\",\"VAL\", \"VALUE\",\"UNIT\",\"LOCATION\",\"STATE\",\"SERVICE:\",\"SERVICE\",\"TIME\",\"ATION\", \"QUANTITY\"]\n",
    "\n",
    "sentence = []\n",
    "labels = []\n",
    "for line in data:\n",
    "    split_lines = line.split('|||')    \n",
    "    sentence.append(split_lines[0].strip())\n",
    "    labels.append(split_lines[1].strip())\n",
    "\n",
    "df = pd.DataFrame({'sentences':sentence,'labels':labels})\n",
    "\n",
    "physical_parameters = [ \"Color\" ,\"Temperature\" ,\"Brightness\" ,\"Volume\" ,\"AirQuality\" ,\"Humidity\",\"Channel\" ,\"Noise\" ,\"EnergyConsumption\",\"WaterConsumption\"]\n",
    "effect =    [\"DecreaseValue\" ,\"FixedValue\" ,\"IncreaseValue\"  ,\"DEcreaseValue\"]\n",
    "goal =      [\"Direct\", \"Indirect\"]\n",
    "scope =     [\"Global\",\"Device\"]\n",
    "df['EFFECT'] = df['labels'].str.findall('EFFECT:(\\S*).*').str[0]\n",
    "df['EFFECT'] = df['EFFECT'].str.replace('DEcreaseValue','DecreaseValue')\n",
    "\n",
    "df['PARAM'] = df['labels'].str.findall('PARAM:(\\S*).*').str[0]\n",
    "df['SCOPE'] = df['labels'].str.findall('SCOPE:(\\S*).*').str[0]\n",
    "df['GOAL'] = df['labels'].str.findall('GOAL:(\\S*).*').str[0]\n",
    "df.head()\n"
   ]
  },
  {
   "cell_type": "code",
   "execution_count": 5,
   "id": "5ab1763b",
   "metadata": {},
   "outputs": [],
   "source": [
    "u = df.sentences.str.split(expand=True).stack()\n",
    "\n",
    "df_tokenized = pd.DataFrame({\n",
    "    'Sentence': u.index.get_level_values(0) + 1, \n",
    "    'Word': u.values})"
   ]
  },
  {
   "cell_type": "code",
   "execution_count": 6,
   "id": "f0159cad",
   "metadata": {},
   "outputs": [],
   "source": [
    "df_tokenized[['Word','Entity']] = df_tokenized['Word'].str.split(':',1,expand=True)\n",
    "df_tokenized['Word_temp'] = df_tokenized['Word']"
   ]
  },
  {
   "cell_type": "code",
   "execution_count": 7,
   "id": "f047440e",
   "metadata": {},
   "outputs": [
    {
     "data": {
      "text/html": [
       "<div>\n",
       "<style scoped>\n",
       "    .dataframe tbody tr th:only-of-type {\n",
       "        vertical-align: middle;\n",
       "    }\n",
       "\n",
       "    .dataframe tbody tr th {\n",
       "        vertical-align: top;\n",
       "    }\n",
       "\n",
       "    .dataframe thead th {\n",
       "        text-align: right;\n",
       "    }\n",
       "</style>\n",
       "<table border=\"1\" class=\"dataframe\">\n",
       "  <thead>\n",
       "    <tr style=\"text-align: right;\">\n",
       "      <th></th>\n",
       "      <th>Sentence</th>\n",
       "      <th>Word</th>\n",
       "      <th>Entity</th>\n",
       "    </tr>\n",
       "  </thead>\n",
       "  <tbody>\n",
       "    <tr>\n",
       "      <th>0</th>\n",
       "      <td>1</td>\n",
       "      <td>help</td>\n",
       "      <td>O</td>\n",
       "    </tr>\n",
       "    <tr>\n",
       "      <th>1</th>\n",
       "      <td>1</td>\n",
       "      <td>me</td>\n",
       "      <td>O</td>\n",
       "    </tr>\n",
       "    <tr>\n",
       "      <th>2</th>\n",
       "      <td>1</td>\n",
       "      <td>automatically</td>\n",
       "      <td>O</td>\n",
       "    </tr>\n",
       "    <tr>\n",
       "      <th>3</th>\n",
       "      <td>1</td>\n",
       "      <td>turn</td>\n",
       "      <td>ACTION</td>\n",
       "    </tr>\n",
       "    <tr>\n",
       "      <th>4</th>\n",
       "      <td>1</td>\n",
       "      <td>the</td>\n",
       "      <td>O</td>\n",
       "    </tr>\n",
       "  </tbody>\n",
       "</table>\n",
       "</div>"
      ],
      "text/plain": [
       "   Sentence           Word  Entity\n",
       "0         1           help       O\n",
       "1         1             me       O\n",
       "2         1  automatically       O\n",
       "3         1           turn  ACTION\n",
       "4         1            the       O"
      ]
     },
     "execution_count": 7,
     "metadata": {},
     "output_type": "execute_result"
    }
   ],
   "source": [
    "df_tokenized['Word'] = np.where(df_tokenized['Word_temp'].str.isupper(),df_tokenized['Entity'],df_tokenized['Word_temp'])\n",
    "df_tokenized['Entity'] = np.where(df_tokenized['Word_temp'].str.isupper(),df_tokenized['Word_temp'],df_tokenized['Entity'])\n",
    "df_tokenized = df_tokenized.drop('Word_temp',axis=1)\n",
    "df_tokenized['Entity'] = df_tokenized['Entity'].fillna('O')\n",
    "df_tokenized.head()"
   ]
  },
  {
   "cell_type": "code",
   "execution_count": 8,
   "id": "570c7097",
   "metadata": {},
   "outputs": [
    {
     "data": {
      "text/plain": [
       "(18648505, 2296, 16)"
      ]
     },
     "execution_count": 8,
     "metadata": {},
     "output_type": "execute_result"
    }
   ],
   "source": [
    "len(df_tokenized), df_tokenized['Word'].nunique(), df_tokenized['Entity'].nunique()"
   ]
  },
  {
   "cell_type": "code",
   "execution_count": 9,
   "id": "32b4c3c4",
   "metadata": {},
   "outputs": [
    {
     "data": {
      "text/plain": [
       "array(['O', 'ACTION', 'LOCATION', 'VAL', 'DEVICE', 'UNIT', 'TIME',\n",
       "       'STATE', 'I', 'SERVICE', 'DEIVCE', 'amazon_echo', 'ATION',\n",
       "       'PREFERENCE', 'MAHDAAAAAAAAAA', 'MAHDAAAAAAAA'], dtype=object)"
      ]
     },
     "execution_count": 9,
     "metadata": {},
     "output_type": "execute_result"
    }
   ],
   "source": [
    "df_tokenized['Entity'].unique()"
   ]
  },
  {
   "cell_type": "code",
   "execution_count": 10,
   "id": "945da6a4",
   "metadata": {},
   "outputs": [],
   "source": [
    "df_tokenized['Word'] = np.where(df_tokenized['Entity']=='I','I',df_tokenized['Word'])\n",
    "df_tokenized['Entity'] = np.where(df_tokenized['Entity']=='I','O',df_tokenized['Entity'])"
   ]
  },
  {
   "cell_type": "code",
   "execution_count": 11,
   "id": "2d859780",
   "metadata": {},
   "outputs": [],
   "source": [
    "df_tokenized['Word'] = np.where(df_tokenized['Entity']=='amazon_echo','amazon_echo',df_tokenized['Word'])\n",
    "df_tokenized['Entity'] = np.where(df_tokenized['Entity']=='amazon_echo','Device',df_tokenized['Entity'])"
   ]
  },
  {
   "cell_type": "code",
   "execution_count": 12,
   "id": "167a464e",
   "metadata": {},
   "outputs": [
    {
     "data": {
      "text/plain": [
       "array(['O', 'ACTION', 'LOCATION', 'VAL', 'DEVICE', 'UNIT', 'TIME',\n",
       "       'STATE', 'SERVICE', 'DEIVCE', 'Device', 'ATION', 'PREFERENCE',\n",
       "       'MAHDAAAAAAAAAA', 'MAHDAAAAAAAA'], dtype=object)"
      ]
     },
     "execution_count": 12,
     "metadata": {},
     "output_type": "execute_result"
    }
   ],
   "source": [
    "df_tokenized['Entity'].unique()"
   ]
  },
  {
   "cell_type": "code",
   "execution_count": 13,
   "id": "1a3830e1",
   "metadata": {},
   "outputs": [],
   "source": [
    "df_tokenized['Entity'] = np.where(df_tokenized['Entity'].isin(['Device','DEIVCE']),'DEVICE',df_tokenized['Entity'])\n",
    "df_tokenized['Entity'] = np.where(df_tokenized['Entity']=='ATION','ACTION',df_tokenized['Entity'])"
   ]
  },
  {
   "cell_type": "code",
   "execution_count": 14,
   "id": "3f3b8af2",
   "metadata": {},
   "outputs": [
    {
     "data": {
      "text/plain": [
       "array(['O', 'ACTION', 'LOCATION', 'VAL', 'DEVICE', 'UNIT', 'TIME',\n",
       "       'STATE', 'SERVICE', 'PREFERENCE', 'MAHDAAAAAAAAAA', 'MAHDAAAAAAAA'],\n",
       "      dtype=object)"
      ]
     },
     "execution_count": 14,
     "metadata": {},
     "output_type": "execute_result"
    }
   ],
   "source": [
    "df_tokenized['Entity'].unique()"
   ]
  },
  {
   "cell_type": "code",
   "execution_count": 15,
   "id": "c426504e",
   "metadata": {},
   "outputs": [
    {
     "data": {
      "text/plain": [
       "(18648505, 2297, 12)"
      ]
     },
     "execution_count": 15,
     "metadata": {},
     "output_type": "execute_result"
    }
   ],
   "source": [
    "len(df_tokenized), df_tokenized['Word'].nunique(), df_tokenized['Entity'].nunique()"
   ]
  },
  {
   "cell_type": "code",
   "execution_count": 16,
   "id": "a41cc6e3",
   "metadata": {
    "id": "s4tnTFBeAIhx",
    "outputId": "7739dac0-f6aa-46cc-a6de-e85a067a1d04"
   },
   "outputs": [
    {
     "data": {
      "text/html": [
       "<div>\n",
       "<style scoped>\n",
       "    .dataframe tbody tr th:only-of-type {\n",
       "        vertical-align: middle;\n",
       "    }\n",
       "\n",
       "    .dataframe tbody tr th {\n",
       "        vertical-align: top;\n",
       "    }\n",
       "\n",
       "    .dataframe thead th {\n",
       "        text-align: right;\n",
       "    }\n",
       "</style>\n",
       "<table border=\"1\" class=\"dataframe\">\n",
       "  <thead>\n",
       "    <tr style=\"text-align: right;\">\n",
       "      <th></th>\n",
       "      <th>Sentence</th>\n",
       "      <th>Word</th>\n",
       "      <th>Entity</th>\n",
       "    </tr>\n",
       "  </thead>\n",
       "  <tbody>\n",
       "    <tr>\n",
       "      <th>0</th>\n",
       "      <td>1</td>\n",
       "      <td>help</td>\n",
       "      <td>O</td>\n",
       "    </tr>\n",
       "    <tr>\n",
       "      <th>1</th>\n",
       "      <td>1</td>\n",
       "      <td>me</td>\n",
       "      <td>O</td>\n",
       "    </tr>\n",
       "    <tr>\n",
       "      <th>2</th>\n",
       "      <td>1</td>\n",
       "      <td>automatically</td>\n",
       "      <td>O</td>\n",
       "    </tr>\n",
       "    <tr>\n",
       "      <th>3</th>\n",
       "      <td>1</td>\n",
       "      <td>turn</td>\n",
       "      <td>ACTION</td>\n",
       "    </tr>\n",
       "    <tr>\n",
       "      <th>4</th>\n",
       "      <td>1</td>\n",
       "      <td>the</td>\n",
       "      <td>O</td>\n",
       "    </tr>\n",
       "  </tbody>\n",
       "</table>\n",
       "</div>"
      ],
      "text/plain": [
       "   Sentence           Word  Entity\n",
       "0         1           help       O\n",
       "1         1             me       O\n",
       "2         1  automatically       O\n",
       "3         1           turn  ACTION\n",
       "4         1            the       O"
      ]
     },
     "execution_count": 16,
     "metadata": {},
     "output_type": "execute_result"
    }
   ],
   "source": [
    "df_tokenized.head()"
   ]
  },
  {
   "cell_type": "code",
   "execution_count": 17,
   "id": "e0e9a775",
   "metadata": {
    "id": "5opXsg-ZAIhx",
    "outputId": "6feb2ae8-4dd2-447f-c848-19ca4e53ea4a"
   },
   "outputs": [
    {
     "data": {
      "text/html": [
       "<div>\n",
       "<style scoped>\n",
       "    .dataframe tbody tr th:only-of-type {\n",
       "        vertical-align: middle;\n",
       "    }\n",
       "\n",
       "    .dataframe tbody tr th {\n",
       "        vertical-align: top;\n",
       "    }\n",
       "\n",
       "    .dataframe thead th {\n",
       "        text-align: right;\n",
       "    }\n",
       "</style>\n",
       "<table border=\"1\" class=\"dataframe\">\n",
       "  <thead>\n",
       "    <tr style=\"text-align: right;\">\n",
       "      <th></th>\n",
       "      <th>Entity</th>\n",
       "      <th>counts</th>\n",
       "    </tr>\n",
       "  </thead>\n",
       "  <tbody>\n",
       "    <tr>\n",
       "      <th>3</th>\n",
       "      <td>MAHDAAAAAAAA</td>\n",
       "      <td>6</td>\n",
       "    </tr>\n",
       "    <tr>\n",
       "      <th>4</th>\n",
       "      <td>MAHDAAAAAAAAAA</td>\n",
       "      <td>7</td>\n",
       "    </tr>\n",
       "    <tr>\n",
       "      <th>6</th>\n",
       "      <td>PREFERENCE</td>\n",
       "      <td>3836</td>\n",
       "    </tr>\n",
       "    <tr>\n",
       "      <th>9</th>\n",
       "      <td>TIME</td>\n",
       "      <td>64953</td>\n",
       "    </tr>\n",
       "    <tr>\n",
       "      <th>7</th>\n",
       "      <td>SERVICE</td>\n",
       "      <td>68128</td>\n",
       "    </tr>\n",
       "    <tr>\n",
       "      <th>8</th>\n",
       "      <td>STATE</td>\n",
       "      <td>212398</td>\n",
       "    </tr>\n",
       "    <tr>\n",
       "      <th>10</th>\n",
       "      <td>UNIT</td>\n",
       "      <td>368416</td>\n",
       "    </tr>\n",
       "    <tr>\n",
       "      <th>1</th>\n",
       "      <td>DEVICE</td>\n",
       "      <td>916244</td>\n",
       "    </tr>\n",
       "    <tr>\n",
       "      <th>11</th>\n",
       "      <td>VAL</td>\n",
       "      <td>1311821</td>\n",
       "    </tr>\n",
       "    <tr>\n",
       "      <th>2</th>\n",
       "      <td>LOCATION</td>\n",
       "      <td>1425964</td>\n",
       "    </tr>\n",
       "    <tr>\n",
       "      <th>0</th>\n",
       "      <td>ACTION</td>\n",
       "      <td>1827007</td>\n",
       "    </tr>\n",
       "    <tr>\n",
       "      <th>5</th>\n",
       "      <td>O</td>\n",
       "      <td>12449725</td>\n",
       "    </tr>\n",
       "  </tbody>\n",
       "</table>\n",
       "</div>"
      ],
      "text/plain": [
       "            Entity    counts\n",
       "3     MAHDAAAAAAAA         6\n",
       "4   MAHDAAAAAAAAAA         7\n",
       "6       PREFERENCE      3836\n",
       "9             TIME     64953\n",
       "7          SERVICE     68128\n",
       "8            STATE    212398\n",
       "10            UNIT    368416\n",
       "1           DEVICE    916244\n",
       "11             VAL   1311821\n",
       "2         LOCATION   1425964\n",
       "0           ACTION   1827007\n",
       "5                O  12449725"
      ]
     },
     "execution_count": 17,
     "metadata": {},
     "output_type": "execute_result"
    }
   ],
   "source": [
    "df_tokenized.groupby('Entity').size().reset_index(name='counts').sort_values(by='counts')"
   ]
  },
  {
   "cell_type": "code",
   "execution_count": 18,
   "id": "10474d25",
   "metadata": {},
   "outputs": [],
   "source": [
    "import spacy\n",
    "nlp = spacy.load(\"en_core_web_sm\")"
   ]
  },
  {
   "cell_type": "code",
   "execution_count": 36,
   "id": "0398b180",
   "metadata": {},
   "outputs": [],
   "source": [
    "df_tokenized = df_tokenized[(df_tokenized['Word'].str.len() !=0) & (df_tokenized['Word'].notnull())]"
   ]
  },
  {
   "cell_type": "code",
   "execution_count": 37,
   "id": "9927a651",
   "metadata": {},
   "outputs": [
    {
     "data": {
      "text/plain": [
       "0"
      ]
     },
     "execution_count": 37,
     "metadata": {},
     "output_type": "execute_result"
    }
   ],
   "source": [
    "df_tokenized['Word'].isnull().sum()"
   ]
  },
  {
   "cell_type": "code",
   "execution_count": 30,
   "id": "c6c2df12",
   "metadata": {},
   "outputs": [],
   "source": [
    "unique_words = df_tokenized['Word'].unique()\n",
    "unique_words = [w for w in unique_words if w is not None]\n",
    "\n",
    "pos_tags={}\n",
    "for word in unique_words: \n",
    "    doc= nlp(word)\n",
    "    pos_tag = doc[0].pos_\n",
    "    pos_tags[word] = pos_tag"
   ]
  },
  {
   "cell_type": "code",
   "execution_count": 38,
   "id": "1ebcbe9e",
   "metadata": {},
   "outputs": [],
   "source": [
    "df_tokenized['POS'] = df_tokenized['Word'].apply(lambda x: pos_tags[x] )"
   ]
  },
  {
   "cell_type": "code",
   "execution_count": 39,
   "id": "90738670",
   "metadata": {
    "id": "KYdcnxoWAIhy",
    "outputId": "48f93d6a-74c8-4d29-cd26-b11a544421ff"
   },
   "outputs": [
    {
     "data": {
      "text/html": [
       "<div>\n",
       "<style scoped>\n",
       "    .dataframe tbody tr th:only-of-type {\n",
       "        vertical-align: middle;\n",
       "    }\n",
       "\n",
       "    .dataframe tbody tr th {\n",
       "        vertical-align: top;\n",
       "    }\n",
       "\n",
       "    .dataframe thead th {\n",
       "        text-align: right;\n",
       "    }\n",
       "</style>\n",
       "<table border=\"1\" class=\"dataframe\">\n",
       "  <thead>\n",
       "    <tr style=\"text-align: right;\">\n",
       "      <th></th>\n",
       "      <th>Sentence</th>\n",
       "      <th>Word</th>\n",
       "      <th>POS</th>\n",
       "    </tr>\n",
       "  </thead>\n",
       "  <tbody>\n",
       "    <tr>\n",
       "      <th>0</th>\n",
       "      <td>1</td>\n",
       "      <td>help</td>\n",
       "      <td>VERB</td>\n",
       "    </tr>\n",
       "    <tr>\n",
       "      <th>1</th>\n",
       "      <td>1</td>\n",
       "      <td>me</td>\n",
       "      <td>PRON</td>\n",
       "    </tr>\n",
       "    <tr>\n",
       "      <th>2</th>\n",
       "      <td>1</td>\n",
       "      <td>automatically</td>\n",
       "      <td>ADV</td>\n",
       "    </tr>\n",
       "    <tr>\n",
       "      <th>3</th>\n",
       "      <td>1</td>\n",
       "      <td>turn</td>\n",
       "      <td>VERB</td>\n",
       "    </tr>\n",
       "    <tr>\n",
       "      <th>4</th>\n",
       "      <td>1</td>\n",
       "      <td>the</td>\n",
       "      <td>PRON</td>\n",
       "    </tr>\n",
       "  </tbody>\n",
       "</table>\n",
       "</div>"
      ],
      "text/plain": [
       "   Sentence           Word   POS\n",
       "0         1           help  VERB\n",
       "1         1             me  PRON\n",
       "2         1  automatically   ADV\n",
       "3         1           turn  VERB\n",
       "4         1            the  PRON"
      ]
     },
     "execution_count": 39,
     "metadata": {},
     "output_type": "execute_result"
    }
   ],
   "source": [
    "X = df_tokenized.drop('Entity', axis=1)\n",
    "X.head()"
   ]
  },
  {
   "cell_type": "code",
   "execution_count": 40,
   "id": "54f74b51",
   "metadata": {
    "id": "wnvPTP4ZAIhy",
    "outputId": "8948c9a7-9dab-47e0-a565-72f9f6a28b0b"
   },
   "outputs": [
    {
     "data": {
      "text/plain": [
       "Index(['Sentence', 'Word', 'POS'], dtype='object')"
      ]
     },
     "execution_count": 40,
     "metadata": {},
     "output_type": "execute_result"
    }
   ],
   "source": [
    "X.columns"
   ]
  },
  {
   "cell_type": "code",
   "execution_count": null,
   "id": "d6e69f32",
   "metadata": {
    "id": "-yOP02oPAIhy",
    "outputId": "acb9e2f5-fe3a-466a-9866-0172fa2ce8ef"
   },
   "outputs": [],
   "source": [
    "v = DictVectorizer(sparse=False)\n",
    "X = v.fit_transform(X.to_dict('records'))\n",
    "X.shape"
   ]
  },
  {
   "cell_type": "code",
   "execution_count": null,
   "id": "5077fbca",
   "metadata": {
    "id": "pBAuCnXLAIhy"
   },
   "outputs": [],
   "source": [
    "y = df_tokenized.Entity.values"
   ]
  },
  {
   "cell_type": "code",
   "execution_count": null,
   "id": "76b3e961",
   "metadata": {
    "id": "w5pvOt1fAIhy"
   },
   "outputs": [],
   "source": [
    "classes = np.unique(y)"
   ]
  },
  {
   "cell_type": "code",
   "execution_count": null,
   "id": "3bfb9dab",
   "metadata": {
    "id": "Y6FH-P_gAIhy",
    "outputId": "c13b1552-aa08-458e-aded-a8c640e9c198"
   },
   "outputs": [],
   "source": [
    "classes = classes.tolist()\n",
    "classes"
   ]
  },
  {
   "cell_type": "code",
   "execution_count": null,
   "id": "eedabba1",
   "metadata": {
    "id": "A4qgQiEbAIhz",
    "outputId": "a9db58cc-c523-4328-b4f5-ba9935b94169"
   },
   "outputs": [],
   "source": [
    "X.shape, y.shape"
   ]
  },
  {
   "cell_type": "code",
   "execution_count": null,
   "id": "bd897aec",
   "metadata": {
    "id": "C_yKH3Q-AIhz"
   },
   "outputs": [],
   "source": [
    "X_train, X_test, y_train, y_test = train_test_split(X, y, test_size = 0.33, random_state=0)"
   ]
  },
  {
   "cell_type": "code",
   "execution_count": null,
   "id": "b5d2a9e1",
   "metadata": {
    "id": "kBKmF7OfAIhz",
    "outputId": "2e8778ae-4794-4538-fff4-e5d1830181b9"
   },
   "outputs": [],
   "source": [
    "X_train.shape, y_train.shape"
   ]
  },
  {
   "cell_type": "markdown",
   "id": "e8927da7",
   "metadata": {
    "id": "vMrvdNjiAIh1"
   },
   "source": [
    "### Naive Bayes classifier for multinomial models"
   ]
  },
  {
   "cell_type": "code",
   "execution_count": 32,
   "id": "45ba1f23",
   "metadata": {
    "id": "jb65HKQCAIh1",
    "outputId": "3b88400e-dd37-4cc3-a080-d9e4cfb9c1fd"
   },
   "outputs": [
    {
     "data": {
      "text/html": [
       "<style>#sk-container-id-1 {color: black;background-color: white;}#sk-container-id-1 pre{padding: 0;}#sk-container-id-1 div.sk-toggleable {background-color: white;}#sk-container-id-1 label.sk-toggleable__label {cursor: pointer;display: block;width: 100%;margin-bottom: 0;padding: 0.3em;box-sizing: border-box;text-align: center;}#sk-container-id-1 label.sk-toggleable__label-arrow:before {content: \"▸\";float: left;margin-right: 0.25em;color: #696969;}#sk-container-id-1 label.sk-toggleable__label-arrow:hover:before {color: black;}#sk-container-id-1 div.sk-estimator:hover label.sk-toggleable__label-arrow:before {color: black;}#sk-container-id-1 div.sk-toggleable__content {max-height: 0;max-width: 0;overflow: hidden;text-align: left;background-color: #f0f8ff;}#sk-container-id-1 div.sk-toggleable__content pre {margin: 0.2em;color: black;border-radius: 0.25em;background-color: #f0f8ff;}#sk-container-id-1 input.sk-toggleable__control:checked~div.sk-toggleable__content {max-height: 200px;max-width: 100%;overflow: auto;}#sk-container-id-1 input.sk-toggleable__control:checked~label.sk-toggleable__label-arrow:before {content: \"▾\";}#sk-container-id-1 div.sk-estimator input.sk-toggleable__control:checked~label.sk-toggleable__label {background-color: #d4ebff;}#sk-container-id-1 div.sk-label input.sk-toggleable__control:checked~label.sk-toggleable__label {background-color: #d4ebff;}#sk-container-id-1 input.sk-hidden--visually {border: 0;clip: rect(1px 1px 1px 1px);clip: rect(1px, 1px, 1px, 1px);height: 1px;margin: -1px;overflow: hidden;padding: 0;position: absolute;width: 1px;}#sk-container-id-1 div.sk-estimator {font-family: monospace;background-color: #f0f8ff;border: 1px dotted black;border-radius: 0.25em;box-sizing: border-box;margin-bottom: 0.5em;}#sk-container-id-1 div.sk-estimator:hover {background-color: #d4ebff;}#sk-container-id-1 div.sk-parallel-item::after {content: \"\";width: 100%;border-bottom: 1px solid gray;flex-grow: 1;}#sk-container-id-1 div.sk-label:hover label.sk-toggleable__label {background-color: #d4ebff;}#sk-container-id-1 div.sk-serial::before {content: \"\";position: absolute;border-left: 1px solid gray;box-sizing: border-box;top: 0;bottom: 0;left: 50%;z-index: 0;}#sk-container-id-1 div.sk-serial {display: flex;flex-direction: column;align-items: center;background-color: white;padding-right: 0.2em;padding-left: 0.2em;position: relative;}#sk-container-id-1 div.sk-item {position: relative;z-index: 1;}#sk-container-id-1 div.sk-parallel {display: flex;align-items: stretch;justify-content: center;background-color: white;position: relative;}#sk-container-id-1 div.sk-item::before, #sk-container-id-1 div.sk-parallel-item::before {content: \"\";position: absolute;border-left: 1px solid gray;box-sizing: border-box;top: 0;bottom: 0;left: 50%;z-index: -1;}#sk-container-id-1 div.sk-parallel-item {display: flex;flex-direction: column;z-index: 1;position: relative;background-color: white;}#sk-container-id-1 div.sk-parallel-item:first-child::after {align-self: flex-end;width: 50%;}#sk-container-id-1 div.sk-parallel-item:last-child::after {align-self: flex-start;width: 50%;}#sk-container-id-1 div.sk-parallel-item:only-child::after {width: 0;}#sk-container-id-1 div.sk-dashed-wrapped {border: 1px dashed gray;margin: 0 0.4em 0.5em 0.4em;box-sizing: border-box;padding-bottom: 0.4em;background-color: white;}#sk-container-id-1 div.sk-label label {font-family: monospace;font-weight: bold;display: inline-block;line-height: 1.2em;}#sk-container-id-1 div.sk-label-container {text-align: center;}#sk-container-id-1 div.sk-container {/* jupyter's `normalize.less` sets `[hidden] { display: none; }` but bootstrap.min.css set `[hidden] { display: none !important; }` so we also need the `!important` here to be able to override the default hidden behavior on the sphinx rendered scikit-learn.org. See: https://github.com/scikit-learn/scikit-learn/issues/21755 */display: inline-block !important;position: relative;}#sk-container-id-1 div.sk-text-repr-fallback {display: none;}</style><div id=\"sk-container-id-1\" class=\"sk-top-container\"><div class=\"sk-text-repr-fallback\"><pre>MultinomialNB(alpha=0.01)</pre><b>In a Jupyter environment, please rerun this cell to show the HTML representation or trust the notebook. <br />On GitHub, the HTML representation is unable to render, please try loading this page with nbviewer.org.</b></div><div class=\"sk-container\" hidden><div class=\"sk-item\"><div class=\"sk-estimator sk-toggleable\"><input class=\"sk-toggleable__control sk-hidden--visually\" id=\"sk-estimator-id-1\" type=\"checkbox\" checked><label for=\"sk-estimator-id-1\" class=\"sk-toggleable__label sk-toggleable__label-arrow\">MultinomialNB</label><div class=\"sk-toggleable__content\"><pre>MultinomialNB(alpha=0.01)</pre></div></div></div></div></div>"
      ],
      "text/plain": [
       "MultinomialNB(alpha=0.01)"
      ]
     },
     "execution_count": 32,
     "metadata": {},
     "output_type": "execute_result"
    }
   ],
   "source": [
    "%timeit\n",
    "nb = MultinomialNB(alpha=0.01)\n",
    "nb.partial_fit(X_train, y_train, classes)"
   ]
  },
  {
   "cell_type": "code",
   "execution_count": 40,
   "id": "a9598e22",
   "metadata": {
    "id": "tY4vQgGwAIh1",
    "outputId": "06b4646c-ee47-4cf8-ce9b-d4edc4b67942"
   },
   "outputs": [
    {
     "name": "stdout",
     "output_type": "stream",
     "text": [
      "              precision    recall  f1-score   support\n",
      "\n",
      "      ACTION       0.94      1.00      0.97      3247\n",
      "      DEVICE       0.93      0.96      0.95      1662\n",
      "    LOCATION       0.98      0.97      0.97      2497\n",
      "           O       0.99      0.98      0.99     21995\n",
      "  PREFERENCE       0.20      0.08      0.12        12\n",
      "     SERVICE       0.70      0.95      0.80       110\n",
      "       STATE       0.59      0.96      0.73       355\n",
      "        TIME       0.88      1.00      0.93       115\n",
      "        UNIT       1.00      0.99      1.00       648\n",
      "         VAL       0.99      0.92      0.95      2308\n",
      "\n",
      "    accuracy                           0.98     32949\n",
      "   macro avg       0.82      0.88      0.84     32949\n",
      "weighted avg       0.98      0.98      0.98     32949\n",
      "\n"
     ]
    }
   ],
   "source": [
    "print(classification_report(y_pred=nb.predict(X_test), y_true=y_test, labels = classes))"
   ]
  },
  {
   "cell_type": "code",
   "execution_count": null,
   "id": "efcecad9",
   "metadata": {},
   "outputs": [],
   "source": []
  }
 ],
 "metadata": {
  "kernelspec": {
   "display_name": "Python 3 (ipykernel)",
   "language": "python",
   "name": "python3"
  },
  "language_info": {
   "codemirror_mode": {
    "name": "ipython",
    "version": 3
   },
   "file_extension": ".py",
   "mimetype": "text/x-python",
   "name": "python",
   "nbconvert_exporter": "python",
   "pygments_lexer": "ipython3",
   "version": "3.9.13"
  }
 },
 "nbformat": 4,
 "nbformat_minor": 5
}
